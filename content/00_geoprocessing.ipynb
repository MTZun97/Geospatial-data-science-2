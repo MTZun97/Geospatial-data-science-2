{
 "cells": [
  {
   "cell_type": "markdown",
   "metadata": {},
   "source": [
    "# Geoprocessing\n",
    "\n",
    "Spatial data comes in a rich variety of forms and corresponding file formats. At the beginning of most geocomputational workflows, one is typically reading these different formats and applying different forms of spatial data processing (or geoprocessing) methods to the data.\n",
    "\n",
    "In this notebook we cover a subset of geoprocessing methods:\n",
    "\n",
    "- Reading geopackages and shapefiles\n",
    "- Coordinate reference system transformations\n",
    "- Spatial joins\n",
    "- Spatial aggregations\n",
    "\n",
    "Along the way we introduce the package [geopandas](https://geopandas.org) which provides key spatial data processing functionality."
   ]
  },
  {
   "cell_type": "markdown",
   "metadata": {},
   "source": [
    "## Reading GeoPackages\n",
    "\n",
    "We begin with our first dataset that contains socieconomic data for census tracts in Southern California. The data are for the census year 2010 and are provided from the package [GeoSNAP](https://github.com/spatialucr/geosnap) as a **GeoPackage**. "
   ]
  },
  {
   "cell_type": "markdown",
   "metadata": {},
   "source": [
    "A [GeoPackage](https://www.geopackage.org/) is an open format for geospatial information that uses an [SQLite database](https://www.sqlite.org/index.html) to store:\n",
    "\n",
    "- vector features\n",
    "- tile matrix sets of imagery and raster maps at various scales\n",
    "- attributes (non-spatial data)\n",
    "- extensions\n",
    "\n",
    "We will use **geopandas** to read the GeoPackage for our data:\n"
   ]
  },
  {
   "cell_type": "code",
   "execution_count": 2,
   "metadata": {
    "execution": {
     "iopub.execute_input": "2022-06-17T22:18:28.864420Z",
     "iopub.status.busy": "2022-06-17T22:18:28.863644Z",
     "iopub.status.idle": "2022-06-17T22:18:48.815555Z",
     "shell.execute_reply": "2022-06-17T22:18:48.814256Z",
     "shell.execute_reply.started": "2022-06-17T22:18:28.864317Z"
    }
   },
   "outputs": [],
   "source": [
    "import geopandas as gpd"
   ]
  },
  {
   "cell_type": "code",
   "execution_count": 3,
   "metadata": {
    "execution": {
     "iopub.execute_input": "2022-06-17T22:18:48.819538Z",
     "iopub.status.busy": "2022-06-17T22:18:48.818647Z",
     "iopub.status.idle": "2022-06-17T22:18:49.404933Z",
     "shell.execute_reply": "2022-06-17T22:18:49.404559Z",
     "shell.execute_reply.started": "2022-06-17T22:18:48.819496Z"
    }
   },
   "outputs": [],
   "source": [
    "gp = gpd.read_file(\"data/scag_region.gpkg\") # read the geopackage "
   ]
  },
  {
   "cell_type": "code",
   "execution_count": 4,
   "metadata": {},
   "outputs": [
    {
     "data": {
      "text/html": [
       "<div>\n",
       "<style scoped>\n",
       "    .dataframe tbody tr th:only-of-type {\n",
       "        vertical-align: middle;\n",
       "    }\n",
       "\n",
       "    .dataframe tbody tr th {\n",
       "        vertical-align: top;\n",
       "    }\n",
       "\n",
       "    .dataframe thead th {\n",
       "        text-align: right;\n",
       "    }\n",
       "</style>\n",
       "<table border=\"1\" class=\"dataframe\">\n",
       "  <thead>\n",
       "    <tr style=\"text-align: right;\">\n",
       "      <th></th>\n",
       "      <th>n_asian_under_15</th>\n",
       "      <th>n_black_under_15</th>\n",
       "      <th>n_hispanic_under_15</th>\n",
       "      <th>n_native_under_15</th>\n",
       "      <th>n_white_under_15</th>\n",
       "      <th>n_persons_under_18</th>\n",
       "      <th>n_asian_over_60</th>\n",
       "      <th>n_black_over_60</th>\n",
       "      <th>n_hispanic_over_60</th>\n",
       "      <th>n_native_over_60</th>\n",
       "      <th>...</th>\n",
       "      <th>n_white_persons</th>\n",
       "      <th>year</th>\n",
       "      <th>n_total_housing_units_sample</th>\n",
       "      <th>p_nonhisp_white_persons</th>\n",
       "      <th>p_white_over_60</th>\n",
       "      <th>p_black_over_60</th>\n",
       "      <th>p_hispanic_over_60</th>\n",
       "      <th>p_native_over_60</th>\n",
       "      <th>p_asian_over_60</th>\n",
       "      <th>p_disabled</th>\n",
       "    </tr>\n",
       "  </thead>\n",
       "  <tbody>\n",
       "    <tr>\n",
       "      <th>count</th>\n",
       "      <td>4580.000000</td>\n",
       "      <td>4580.000000</td>\n",
       "      <td>4580.000000</td>\n",
       "      <td>4580.000000</td>\n",
       "      <td>4580.000000</td>\n",
       "      <td>4580.000000</td>\n",
       "      <td>0.0</td>\n",
       "      <td>0.0</td>\n",
       "      <td>0.0</td>\n",
       "      <td>0.0</td>\n",
       "      <td>...</td>\n",
       "      <td>0.0</td>\n",
       "      <td>4580.0</td>\n",
       "      <td>4580.000000</td>\n",
       "      <td>4561.000000</td>\n",
       "      <td>0.0</td>\n",
       "      <td>0.0</td>\n",
       "      <td>0.0</td>\n",
       "      <td>0.0</td>\n",
       "      <td>0.0</td>\n",
       "      <td>0.0</td>\n",
       "    </tr>\n",
       "    <tr>\n",
       "      <th>mean</th>\n",
       "      <td>88.904803</td>\n",
       "      <td>59.661572</td>\n",
       "      <td>548.958515</td>\n",
       "      <td>6.049127</td>\n",
       "      <td>221.454148</td>\n",
       "      <td>1165.189083</td>\n",
       "      <td>NaN</td>\n",
       "      <td>NaN</td>\n",
       "      <td>NaN</td>\n",
       "      <td>NaN</td>\n",
       "      <td>...</td>\n",
       "      <td>NaN</td>\n",
       "      <td>2010.0</td>\n",
       "      <td>1635.272271</td>\n",
       "      <td>36.520553</td>\n",
       "      <td>NaN</td>\n",
       "      <td>NaN</td>\n",
       "      <td>NaN</td>\n",
       "      <td>NaN</td>\n",
       "      <td>NaN</td>\n",
       "      <td>NaN</td>\n",
       "    </tr>\n",
       "    <tr>\n",
       "      <th>std</th>\n",
       "      <td>147.897405</td>\n",
       "      <td>116.333543</td>\n",
       "      <td>490.241082</td>\n",
       "      <td>20.212509</td>\n",
       "      <td>274.126108</td>\n",
       "      <td>711.252591</td>\n",
       "      <td>NaN</td>\n",
       "      <td>NaN</td>\n",
       "      <td>NaN</td>\n",
       "      <td>NaN</td>\n",
       "      <td>...</td>\n",
       "      <td>NaN</td>\n",
       "      <td>0.0</td>\n",
       "      <td>755.032184</td>\n",
       "      <td>27.244360</td>\n",
       "      <td>NaN</td>\n",
       "      <td>NaN</td>\n",
       "      <td>NaN</td>\n",
       "      <td>NaN</td>\n",
       "      <td>NaN</td>\n",
       "      <td>NaN</td>\n",
       "    </tr>\n",
       "    <tr>\n",
       "      <th>min</th>\n",
       "      <td>0.000000</td>\n",
       "      <td>0.000000</td>\n",
       "      <td>0.000000</td>\n",
       "      <td>0.000000</td>\n",
       "      <td>0.000000</td>\n",
       "      <td>0.000000</td>\n",
       "      <td>NaN</td>\n",
       "      <td>NaN</td>\n",
       "      <td>NaN</td>\n",
       "      <td>NaN</td>\n",
       "      <td>...</td>\n",
       "      <td>NaN</td>\n",
       "      <td>2010.0</td>\n",
       "      <td>0.000000</td>\n",
       "      <td>0.000000</td>\n",
       "      <td>NaN</td>\n",
       "      <td>NaN</td>\n",
       "      <td>NaN</td>\n",
       "      <td>NaN</td>\n",
       "      <td>NaN</td>\n",
       "      <td>NaN</td>\n",
       "    </tr>\n",
       "    <tr>\n",
       "      <th>25%</th>\n",
       "      <td>0.000000</td>\n",
       "      <td>0.000000</td>\n",
       "      <td>157.750000</td>\n",
       "      <td>0.000000</td>\n",
       "      <td>28.750000</td>\n",
       "      <td>715.750000</td>\n",
       "      <td>NaN</td>\n",
       "      <td>NaN</td>\n",
       "      <td>NaN</td>\n",
       "      <td>NaN</td>\n",
       "      <td>...</td>\n",
       "      <td>NaN</td>\n",
       "      <td>2010.0</td>\n",
       "      <td>1141.750000</td>\n",
       "      <td>10.650991</td>\n",
       "      <td>NaN</td>\n",
       "      <td>NaN</td>\n",
       "      <td>NaN</td>\n",
       "      <td>NaN</td>\n",
       "      <td>NaN</td>\n",
       "      <td>NaN</td>\n",
       "    </tr>\n",
       "    <tr>\n",
       "      <th>50%</th>\n",
       "      <td>36.000000</td>\n",
       "      <td>12.000000</td>\n",
       "      <td>421.000000</td>\n",
       "      <td>0.000000</td>\n",
       "      <td>132.000000</td>\n",
       "      <td>1078.000000</td>\n",
       "      <td>NaN</td>\n",
       "      <td>NaN</td>\n",
       "      <td>NaN</td>\n",
       "      <td>NaN</td>\n",
       "      <td>...</td>\n",
       "      <td>NaN</td>\n",
       "      <td>2010.0</td>\n",
       "      <td>1516.000000</td>\n",
       "      <td>33.086876</td>\n",
       "      <td>NaN</td>\n",
       "      <td>NaN</td>\n",
       "      <td>NaN</td>\n",
       "      <td>NaN</td>\n",
       "      <td>NaN</td>\n",
       "      <td>NaN</td>\n",
       "    </tr>\n",
       "    <tr>\n",
       "      <th>75%</th>\n",
       "      <td>111.000000</td>\n",
       "      <td>65.000000</td>\n",
       "      <td>825.250000</td>\n",
       "      <td>0.000000</td>\n",
       "      <td>332.000000</td>\n",
       "      <td>1486.000000</td>\n",
       "      <td>NaN</td>\n",
       "      <td>NaN</td>\n",
       "      <td>NaN</td>\n",
       "      <td>NaN</td>\n",
       "      <td>...</td>\n",
       "      <td>NaN</td>\n",
       "      <td>2010.0</td>\n",
       "      <td>2003.250000</td>\n",
       "      <td>60.860794</td>\n",
       "      <td>NaN</td>\n",
       "      <td>NaN</td>\n",
       "      <td>NaN</td>\n",
       "      <td>NaN</td>\n",
       "      <td>NaN</td>\n",
       "      <td>NaN</td>\n",
       "    </tr>\n",
       "    <tr>\n",
       "      <th>max</th>\n",
       "      <td>3079.000000</td>\n",
       "      <td>1332.000000</td>\n",
       "      <td>4244.000000</td>\n",
       "      <td>439.000000</td>\n",
       "      <td>5498.000000</td>\n",
       "      <td>11306.000000</td>\n",
       "      <td>NaN</td>\n",
       "      <td>NaN</td>\n",
       "      <td>NaN</td>\n",
       "      <td>NaN</td>\n",
       "      <td>...</td>\n",
       "      <td>NaN</td>\n",
       "      <td>2010.0</td>\n",
       "      <td>9175.000000</td>\n",
       "      <td>100.000000</td>\n",
       "      <td>NaN</td>\n",
       "      <td>NaN</td>\n",
       "      <td>NaN</td>\n",
       "      <td>NaN</td>\n",
       "      <td>NaN</td>\n",
       "      <td>NaN</td>\n",
       "    </tr>\n",
       "  </tbody>\n",
       "</table>\n",
       "<p>8 rows × 192 columns</p>\n",
       "</div>"
      ],
      "text/plain": [
       "       n_asian_under_15  n_black_under_15  n_hispanic_under_15  \\\n",
       "count       4580.000000       4580.000000          4580.000000   \n",
       "mean          88.904803         59.661572           548.958515   \n",
       "std          147.897405        116.333543           490.241082   \n",
       "min            0.000000          0.000000             0.000000   \n",
       "25%            0.000000          0.000000           157.750000   \n",
       "50%           36.000000         12.000000           421.000000   \n",
       "75%          111.000000         65.000000           825.250000   \n",
       "max         3079.000000       1332.000000          4244.000000   \n",
       "\n",
       "       n_native_under_15  n_white_under_15  n_persons_under_18  \\\n",
       "count        4580.000000       4580.000000         4580.000000   \n",
       "mean            6.049127        221.454148         1165.189083   \n",
       "std            20.212509        274.126108          711.252591   \n",
       "min             0.000000          0.000000            0.000000   \n",
       "25%             0.000000         28.750000          715.750000   \n",
       "50%             0.000000        132.000000         1078.000000   \n",
       "75%             0.000000        332.000000         1486.000000   \n",
       "max           439.000000       5498.000000        11306.000000   \n",
       "\n",
       "       n_asian_over_60  n_black_over_60  n_hispanic_over_60  n_native_over_60  \\\n",
       "count              0.0              0.0                 0.0               0.0   \n",
       "mean               NaN              NaN                 NaN               NaN   \n",
       "std                NaN              NaN                 NaN               NaN   \n",
       "min                NaN              NaN                 NaN               NaN   \n",
       "25%                NaN              NaN                 NaN               NaN   \n",
       "50%                NaN              NaN                 NaN               NaN   \n",
       "75%                NaN              NaN                 NaN               NaN   \n",
       "max                NaN              NaN                 NaN               NaN   \n",
       "\n",
       "       ...  n_white_persons    year  n_total_housing_units_sample  \\\n",
       "count  ...              0.0  4580.0                   4580.000000   \n",
       "mean   ...              NaN  2010.0                   1635.272271   \n",
       "std    ...              NaN     0.0                    755.032184   \n",
       "min    ...              NaN  2010.0                      0.000000   \n",
       "25%    ...              NaN  2010.0                   1141.750000   \n",
       "50%    ...              NaN  2010.0                   1516.000000   \n",
       "75%    ...              NaN  2010.0                   2003.250000   \n",
       "max    ...              NaN  2010.0                   9175.000000   \n",
       "\n",
       "       p_nonhisp_white_persons  p_white_over_60  p_black_over_60  \\\n",
       "count              4561.000000              0.0              0.0   \n",
       "mean                 36.520553              NaN              NaN   \n",
       "std                  27.244360              NaN              NaN   \n",
       "min                   0.000000              NaN              NaN   \n",
       "25%                  10.650991              NaN              NaN   \n",
       "50%                  33.086876              NaN              NaN   \n",
       "75%                  60.860794              NaN              NaN   \n",
       "max                 100.000000              NaN              NaN   \n",
       "\n",
       "       p_hispanic_over_60  p_native_over_60  p_asian_over_60  p_disabled  \n",
       "count                 0.0               0.0              0.0         0.0  \n",
       "mean                  NaN               NaN              NaN         NaN  \n",
       "std                   NaN               NaN              NaN         NaN  \n",
       "min                   NaN               NaN              NaN         NaN  \n",
       "25%                   NaN               NaN              NaN         NaN  \n",
       "50%                   NaN               NaN              NaN         NaN  \n",
       "75%                   NaN               NaN              NaN         NaN  \n",
       "max                   NaN               NaN              NaN         NaN  \n",
       "\n",
       "[8 rows x 192 columns]"
      ]
     },
     "execution_count": 4,
     "metadata": {},
     "output_type": "execute_result"
    }
   ],
   "source": [
    "gp.describe()"
   ]
  },
  {
   "cell_type": "code",
   "execution_count": 5,
   "metadata": {
    "execution": {
     "iopub.execute_input": "2022-06-17T22:18:49.405441Z",
     "iopub.status.busy": "2022-06-17T22:18:49.405353Z",
     "iopub.status.idle": "2022-06-17T22:18:49.410784Z",
     "shell.execute_reply": "2022-06-17T22:18:49.410499Z",
     "shell.execute_reply.started": "2022-06-17T22:18:49.405433Z"
    }
   },
   "outputs": [
    {
     "data": {
      "text/plain": [
       "geopandas.geodataframe.GeoDataFrame"
      ]
     },
     "execution_count": 5,
     "metadata": {},
     "output_type": "execute_result"
    }
   ],
   "source": [
    "type(gp)"
   ]
  },
  {
   "cell_type": "code",
   "execution_count": 6,
   "metadata": {
    "execution": {
     "iopub.execute_input": "2022-06-17T22:18:49.411598Z",
     "iopub.status.busy": "2022-06-17T22:18:49.411325Z",
     "iopub.status.idle": "2022-06-17T22:18:49.416256Z",
     "shell.execute_reply": "2022-06-17T22:18:49.415926Z",
     "shell.execute_reply.started": "2022-06-17T22:18:49.411582Z"
    }
   },
   "outputs": [
    {
     "data": {
      "text/plain": [
       "Index(['geoid', 'n_asian_under_15', 'n_black_under_15', 'n_hispanic_under_15',\n",
       "       'n_native_under_15', 'n_white_under_15', 'n_persons_under_18',\n",
       "       'n_asian_over_60', 'n_black_over_60', 'n_hispanic_over_60',\n",
       "       ...\n",
       "       'year', 'n_total_housing_units_sample', 'p_nonhisp_white_persons',\n",
       "       'p_white_over_60', 'p_black_over_60', 'p_hispanic_over_60',\n",
       "       'p_native_over_60', 'p_asian_over_60', 'p_disabled', 'geometry'],\n",
       "      dtype='object', length=194)"
      ]
     },
     "execution_count": 6,
     "metadata": {},
     "output_type": "execute_result"
    }
   ],
   "source": [
    "gp.columns"
   ]
  },
  {
   "cell_type": "markdown",
   "metadata": {},
   "source": [
    "In our dataset there is only one layer in the GeoPackage. To show this, we can use the package [fiona](https://github.com/Toblerity/Fiona):"
   ]
  },
  {
   "cell_type": "code",
   "execution_count": 7,
   "metadata": {
    "execution": {
     "iopub.execute_input": "2022-06-17T22:18:49.417891Z",
     "iopub.status.busy": "2022-06-17T22:18:49.417732Z",
     "iopub.status.idle": "2022-06-17T22:18:49.421748Z",
     "shell.execute_reply": "2022-06-17T22:18:49.421320Z",
     "shell.execute_reply.started": "2022-06-17T22:18:49.417875Z"
    }
   },
   "outputs": [],
   "source": [
    "import fiona"
   ]
  },
  {
   "cell_type": "code",
   "execution_count": 8,
   "metadata": {
    "execution": {
     "iopub.execute_input": "2022-06-17T22:18:49.422829Z",
     "iopub.status.busy": "2022-06-17T22:18:49.422332Z",
     "iopub.status.idle": "2022-06-17T22:18:49.428191Z",
     "shell.execute_reply": "2022-06-17T22:18:49.427854Z",
     "shell.execute_reply.started": "2022-06-17T22:18:49.422802Z"
    }
   },
   "outputs": [],
   "source": [
    "layers = fiona.listlayers('data/scag_region.gpkg')"
   ]
  },
  {
   "cell_type": "code",
   "execution_count": 9,
   "metadata": {
    "execution": {
     "iopub.execute_input": "2022-06-17T22:18:49.428842Z",
     "iopub.status.busy": "2022-06-17T22:18:49.428737Z",
     "iopub.status.idle": "2022-06-17T22:18:49.433896Z",
     "shell.execute_reply": "2022-06-17T22:18:49.433385Z",
     "shell.execute_reply.started": "2022-06-17T22:18:49.428832Z"
    }
   },
   "outputs": [
    {
     "data": {
      "text/plain": [
       "['tracts']"
      ]
     },
     "execution_count": 9,
     "metadata": {},
     "output_type": "execute_result"
    }
   ],
   "source": [
    "layers"
   ]
  },
  {
   "cell_type": "markdown",
   "metadata": {},
   "source": [
    "If we did have more than a single layer in our geopackage, we would have to specify the layer that we want to read:"
   ]
  },
  {
   "cell_type": "code",
   "execution_count": 10,
   "metadata": {
    "execution": {
     "iopub.execute_input": "2022-06-17T22:18:49.434603Z",
     "iopub.status.busy": "2022-06-17T22:18:49.434480Z",
     "iopub.status.idle": "2022-06-17T22:18:49.893984Z",
     "shell.execute_reply": "2022-06-17T22:18:49.893584Z",
     "shell.execute_reply.started": "2022-06-17T22:18:49.434591Z"
    }
   },
   "outputs": [],
   "source": [
    "scag = gpd.read_file(\"data/scag_region.gpkg\", layer=\"tracts\")"
   ]
  },
  {
   "cell_type": "code",
   "execution_count": 11,
   "metadata": {
    "execution": {
     "iopub.execute_input": "2022-06-17T22:18:49.894571Z",
     "iopub.status.busy": "2022-06-17T22:18:49.894475Z",
     "iopub.status.idle": "2022-06-17T22:18:49.898745Z",
     "shell.execute_reply": "2022-06-17T22:18:49.898449Z",
     "shell.execute_reply.started": "2022-06-17T22:18:49.894562Z"
    }
   },
   "outputs": [
    {
     "data": {
      "text/plain": [
       "geopandas.geodataframe.GeoDataFrame"
      ]
     },
     "execution_count": 11,
     "metadata": {},
     "output_type": "execute_result"
    }
   ],
   "source": [
    "type(scag)"
   ]
  },
  {
   "cell_type": "code",
   "execution_count": 12,
   "metadata": {
    "execution": {
     "iopub.execute_input": "2022-06-17T22:18:49.899240Z",
     "iopub.status.busy": "2022-06-17T22:18:49.899148Z",
     "iopub.status.idle": "2022-06-17T22:18:49.915277Z",
     "shell.execute_reply": "2022-06-17T22:18:49.914934Z",
     "shell.execute_reply.started": "2022-06-17T22:18:49.899232Z"
    }
   },
   "outputs": [
    {
     "data": {
      "text/html": [
       "<div>\n",
       "<style scoped>\n",
       "    .dataframe tbody tr th:only-of-type {\n",
       "        vertical-align: middle;\n",
       "    }\n",
       "\n",
       "    .dataframe tbody tr th {\n",
       "        vertical-align: top;\n",
       "    }\n",
       "\n",
       "    .dataframe thead th {\n",
       "        text-align: right;\n",
       "    }\n",
       "</style>\n",
       "<table border=\"1\" class=\"dataframe\">\n",
       "  <thead>\n",
       "    <tr style=\"text-align: right;\">\n",
       "      <th></th>\n",
       "      <th>geoid</th>\n",
       "      <th>n_asian_under_15</th>\n",
       "      <th>n_black_under_15</th>\n",
       "      <th>n_hispanic_under_15</th>\n",
       "      <th>n_native_under_15</th>\n",
       "      <th>n_white_under_15</th>\n",
       "      <th>n_persons_under_18</th>\n",
       "      <th>n_asian_over_60</th>\n",
       "      <th>n_black_over_60</th>\n",
       "      <th>n_hispanic_over_60</th>\n",
       "      <th>...</th>\n",
       "      <th>year</th>\n",
       "      <th>n_total_housing_units_sample</th>\n",
       "      <th>p_nonhisp_white_persons</th>\n",
       "      <th>p_white_over_60</th>\n",
       "      <th>p_black_over_60</th>\n",
       "      <th>p_hispanic_over_60</th>\n",
       "      <th>p_native_over_60</th>\n",
       "      <th>p_asian_over_60</th>\n",
       "      <th>p_disabled</th>\n",
       "      <th>geometry</th>\n",
       "    </tr>\n",
       "  </thead>\n",
       "  <tbody>\n",
       "    <tr>\n",
       "      <th>0</th>\n",
       "      <td>06037128702</td>\n",
       "      <td>58.0</td>\n",
       "      <td>0.0</td>\n",
       "      <td>223.0</td>\n",
       "      <td>0.0</td>\n",
       "      <td>475.0</td>\n",
       "      <td>986.0</td>\n",
       "      <td>NaN</td>\n",
       "      <td>NaN</td>\n",
       "      <td>NaN</td>\n",
       "      <td>...</td>\n",
       "      <td>2010</td>\n",
       "      <td>2903.0</td>\n",
       "      <td>64.726214</td>\n",
       "      <td>NaN</td>\n",
       "      <td>NaN</td>\n",
       "      <td>NaN</td>\n",
       "      <td>NaN</td>\n",
       "      <td>NaN</td>\n",
       "      <td>NaN</td>\n",
       "      <td>POLYGON ((-118.44870 34.16485, -118.43997 34.1...</td>\n",
       "    </tr>\n",
       "    <tr>\n",
       "      <th>1</th>\n",
       "      <td>06037131600</td>\n",
       "      <td>83.0</td>\n",
       "      <td>62.0</td>\n",
       "      <td>777.0</td>\n",
       "      <td>0.0</td>\n",
       "      <td>135.0</td>\n",
       "      <td>1355.0</td>\n",
       "      <td>NaN</td>\n",
       "      <td>NaN</td>\n",
       "      <td>NaN</td>\n",
       "      <td>...</td>\n",
       "      <td>2010</td>\n",
       "      <td>1487.0</td>\n",
       "      <td>28.679979</td>\n",
       "      <td>NaN</td>\n",
       "      <td>NaN</td>\n",
       "      <td>NaN</td>\n",
       "      <td>NaN</td>\n",
       "      <td>NaN</td>\n",
       "      <td>NaN</td>\n",
       "      <td>POLYGON ((-118.56229 34.22033, -118.55792 34.2...</td>\n",
       "    </tr>\n",
       "  </tbody>\n",
       "</table>\n",
       "<p>2 rows × 194 columns</p>\n",
       "</div>"
      ],
      "text/plain": [
       "         geoid  n_asian_under_15  n_black_under_15  n_hispanic_under_15  \\\n",
       "0  06037128702              58.0               0.0                223.0   \n",
       "1  06037131600              83.0              62.0                777.0   \n",
       "\n",
       "   n_native_under_15  n_white_under_15  n_persons_under_18  n_asian_over_60  \\\n",
       "0                0.0             475.0               986.0              NaN   \n",
       "1                0.0             135.0              1355.0              NaN   \n",
       "\n",
       "   n_black_over_60  n_hispanic_over_60  ...  year  \\\n",
       "0              NaN                 NaN  ...  2010   \n",
       "1              NaN                 NaN  ...  2010   \n",
       "\n",
       "   n_total_housing_units_sample  p_nonhisp_white_persons  p_white_over_60  \\\n",
       "0                        2903.0                64.726214              NaN   \n",
       "1                        1487.0                28.679979              NaN   \n",
       "\n",
       "   p_black_over_60  p_hispanic_over_60  p_native_over_60  p_asian_over_60  \\\n",
       "0              NaN                 NaN               NaN              NaN   \n",
       "1              NaN                 NaN               NaN              NaN   \n",
       "\n",
       "   p_disabled                                           geometry  \n",
       "0         NaN  POLYGON ((-118.44870 34.16485, -118.43997 34.1...  \n",
       "1         NaN  POLYGON ((-118.56229 34.22033, -118.55792 34.2...  \n",
       "\n",
       "[2 rows x 194 columns]"
      ]
     },
     "execution_count": 12,
     "metadata": {},
     "output_type": "execute_result"
    }
   ],
   "source": [
    "scag.head(2)"
   ]
  },
  {
   "cell_type": "code",
   "execution_count": 13,
   "metadata": {
    "execution": {
     "iopub.execute_input": "2022-06-17T22:18:49.915792Z",
     "iopub.status.busy": "2022-06-17T22:18:49.915700Z",
     "iopub.status.idle": "2022-06-17T22:18:49.920337Z",
     "shell.execute_reply": "2022-06-17T22:18:49.920000Z",
     "shell.execute_reply.started": "2022-06-17T22:18:49.915783Z"
    }
   },
   "outputs": [
    {
     "data": {
      "text/plain": [
       "(4580, 194)"
      ]
     },
     "execution_count": 13,
     "metadata": {},
     "output_type": "execute_result"
    }
   ],
   "source": [
    "scag.shape "
   ]
  },
  {
   "cell_type": "markdown",
   "metadata": {},
   "source": [
    "This tells us there are 4580 census tracts and 194 attributes measured for each tract."
   ]
  },
  {
   "cell_type": "code",
   "execution_count": 14,
   "metadata": {
    "execution": {
     "iopub.execute_input": "2022-06-17T22:18:49.920784Z",
     "iopub.status.busy": "2022-06-17T22:18:49.920691Z",
     "iopub.status.idle": "2022-06-17T22:18:49.925689Z",
     "shell.execute_reply": "2022-06-17T22:18:49.923004Z",
     "shell.execute_reply.started": "2022-06-17T22:18:49.920776Z"
    }
   },
   "outputs": [
    {
     "data": {
      "text/plain": [
       "Index(['geoid', 'n_asian_under_15', 'n_black_under_15', 'n_hispanic_under_15',\n",
       "       'n_native_under_15', 'n_white_under_15', 'n_persons_under_18',\n",
       "       'n_asian_over_60', 'n_black_over_60', 'n_hispanic_over_60',\n",
       "       ...\n",
       "       'year', 'n_total_housing_units_sample', 'p_nonhisp_white_persons',\n",
       "       'p_white_over_60', 'p_black_over_60', 'p_hispanic_over_60',\n",
       "       'p_native_over_60', 'p_asian_over_60', 'p_disabled', 'geometry'],\n",
       "      dtype='object', length=194)"
      ]
     },
     "execution_count": 14,
     "metadata": {},
     "output_type": "execute_result"
    }
   ],
   "source": [
    "scag.columns"
   ]
  },
  {
   "cell_type": "markdown",
   "metadata": {},
   "source": [
    "At least one of the attributes (columns) in the GeoDataFrame holds the geometries for the observations. In our case, this column is named `geometry`:"
   ]
  },
  {
   "cell_type": "code",
   "execution_count": 15,
   "metadata": {
    "execution": {
     "iopub.execute_input": "2022-06-17T22:18:49.926405Z",
     "iopub.status.busy": "2022-06-17T22:18:49.926279Z",
     "iopub.status.idle": "2022-06-17T22:18:49.932740Z",
     "shell.execute_reply": "2022-06-17T22:18:49.932386Z",
     "shell.execute_reply.started": "2022-06-17T22:18:49.926395Z"
    }
   },
   "outputs": [
    {
     "data": {
      "text/plain": [
       "0       POLYGON ((-118.44870 34.16485, -118.43997 34.1...\n",
       "1       POLYGON ((-118.56229 34.22033, -118.55792 34.2...\n",
       "2       POLYGON ((-118.57976 34.21558, -118.57539 34.2...\n",
       "3       POLYGON ((-118.61472 34.21952, -118.61039 34.2...\n",
       "4       POLYGON ((-118.25416 33.93882, -118.25413 33.9...\n",
       "                              ...                        \n",
       "4575    POLYGON ((-118.50373 34.42607, -118.50050 34.4...\n",
       "4576    POLYGON ((-118.20731 33.90754, -118.20641 33.9...\n",
       "4577    POLYGON ((-119.22134 34.18130, -119.21727 34.1...\n",
       "4578    POLYGON ((-116.51068 33.80502, -116.51069 33.8...\n",
       "4579    POLYGON ((-118.41379 34.17940, -118.41160 34.1...\n",
       "Name: geometry, Length: 4580, dtype: geometry"
      ]
     },
     "execution_count": 15,
     "metadata": {},
     "output_type": "execute_result"
    }
   ],
   "source": [
    "scag.geometry"
   ]
  },
  {
   "cell_type": "markdown",
   "metadata": {},
   "source": [
    "This shows us that each of our observations is encoded as a Polygon geometry. \n",
    "\n",
    "We can call the `plot` method of the GeoDataFrame to visualize these geometries:"
   ]
  },
  {
   "cell_type": "code",
   "execution_count": 16,
   "metadata": {
    "execution": {
     "iopub.execute_input": "2022-06-17T22:18:49.935497Z",
     "iopub.status.busy": "2022-06-17T22:18:49.935394Z",
     "iopub.status.idle": "2022-06-17T22:18:51.863681Z",
     "shell.execute_reply": "2022-06-17T22:18:51.863338Z",
     "shell.execute_reply.started": "2022-06-17T22:18:49.935488Z"
    }
   },
   "outputs": [
    {
     "data": {
      "text/plain": [
       "<Axes: >"
      ]
     },
     "execution_count": 16,
     "metadata": {},
     "output_type": "execute_result"
    },
    {
     "data": {
      "image/png": "[encoded data removed]",
      "text/plain": [
       "<Figure size 640x480 with 1 Axes>"
      ]
     },
     "metadata": {},
     "output_type": "display_data"
    }
   ],
   "source": [
    "scag.plot()"
   ]
  },
  {
   "cell_type": "markdown",
   "metadata": {},
   "source": [
    "Note that the tract identifier column is `geoid` which encodes the [11-digit FIPS code](https://www.fcc.gov/general/form-477-census-tract-information)."
   ]
  },
  {
   "cell_type": "markdown",
   "metadata": {},
   "source": [
    "## Reading shapefiles\n",
    "\n",
    "[shapefiles](https://doc.arcgis.com/en/arcgis-online/reference/shapefiles.htm) are a common legacy spatial data format for vector data. \n",
    "Let's explore a second data set that encodes mental health provider locations in Riverside County, California as points in a shapefile:"
   ]
  },
  {
   "cell_type": "markdown",
   "metadata": {},
   "source": [
    "### Reading a point shapefile"
   ]
  },
  {
   "cell_type": "code",
   "execution_count": 17,
   "metadata": {
    "execution": {
     "iopub.execute_input": "2022-06-17T22:18:51.864363Z",
     "iopub.status.busy": "2022-06-17T22:18:51.864223Z",
     "iopub.status.idle": "2022-06-17T22:18:51.937203Z",
     "shell.execute_reply": "2022-06-17T22:18:51.936868Z",
     "shell.execute_reply.started": "2022-06-17T22:18:51.864354Z"
    }
   },
   "outputs": [
    {
     "data": {
      "text/plain": [
       "Index(['OBJECTID', 'SITE_TYPE', 'SITE_NAME', 'ADDRESS', 'CITY', 'ZIPCODE',\n",
       "       'PHONE', 'geometry'],\n",
       "      dtype='object')"
      ]
     },
     "execution_count": 17,
     "metadata": {},
     "output_type": "execute_result"
    }
   ],
   "source": [
    "clinics_df = gpd.read_file('data/behavioralHealth.shp')\n",
    "clinics_df.columns"
   ]
  },
  {
   "cell_type": "code",
   "execution_count": 18,
   "metadata": {
    "execution": {
     "iopub.execute_input": "2022-06-17T22:18:51.937744Z",
     "iopub.status.busy": "2022-06-17T22:18:51.937649Z",
     "iopub.status.idle": "2022-06-17T22:18:51.947245Z",
     "shell.execute_reply": "2022-06-17T22:18:51.946779Z",
     "shell.execute_reply.started": "2022-06-17T22:18:51.937735Z"
    }
   },
   "outputs": [
    {
     "data": {
      "text/html": [
       "<div>\n",
       "<style scoped>\n",
       "    .dataframe tbody tr th:only-of-type {\n",
       "        vertical-align: middle;\n",
       "    }\n",
       "\n",
       "    .dataframe tbody tr th {\n",
       "        vertical-align: top;\n",
       "    }\n",
       "\n",
       "    .dataframe thead th {\n",
       "        text-align: right;\n",
       "    }\n",
       "</style>\n",
       "<table border=\"1\" class=\"dataframe\">\n",
       "  <thead>\n",
       "    <tr style=\"text-align: right;\">\n",
       "      <th></th>\n",
       "      <th>OBJECTID</th>\n",
       "      <th>SITE_TYPE</th>\n",
       "      <th>SITE_NAME</th>\n",
       "      <th>ADDRESS</th>\n",
       "      <th>CITY</th>\n",
       "      <th>ZIPCODE</th>\n",
       "      <th>PHONE</th>\n",
       "      <th>geometry</th>\n",
       "    </tr>\n",
       "  </thead>\n",
       "  <tbody>\n",
       "    <tr>\n",
       "      <th>0</th>\n",
       "      <td>149.0</td>\n",
       "      <td>Behavioral Health</td>\n",
       "      <td>Older Adult Services</td>\n",
       "      <td>6355 Riverside Ave</td>\n",
       "      <td>Riverside</td>\n",
       "      <td>92506</td>\n",
       "      <td>951-369-0219</td>\n",
       "      <td>POINT (6216487.156 2291913.664)</td>\n",
       "    </tr>\n",
       "    <tr>\n",
       "      <th>1</th>\n",
       "      <td>150.0</td>\n",
       "      <td>Behavioral Health</td>\n",
       "      <td>Children'S Treatment Services</td>\n",
       "      <td>9990 County Farm Rd</td>\n",
       "      <td>Riverside</td>\n",
       "      <td>92503</td>\n",
       "      <td>951-358-4840</td>\n",
       "      <td>POINT (6195566.226 2280519.190)</td>\n",
       "    </tr>\n",
       "    <tr>\n",
       "      <th>2</th>\n",
       "      <td>151.0</td>\n",
       "      <td>Behavioral Health</td>\n",
       "      <td>Family, Adolescent, And Children'S Treatment</td>\n",
       "      <td>1195 Magnolia Ave</td>\n",
       "      <td>Corona</td>\n",
       "      <td>91719</td>\n",
       "      <td>951-273-0608</td>\n",
       "      <td>POINT (6168252.101 2261023.951)</td>\n",
       "    </tr>\n",
       "    <tr>\n",
       "      <th>3</th>\n",
       "      <td>447.0</td>\n",
       "      <td>Behavioral Health</td>\n",
       "      <td>Blythe Clinic</td>\n",
       "      <td>1297 W Hobson Way</td>\n",
       "      <td>Blythe</td>\n",
       "      <td>92225</td>\n",
       "      <td>760-770-2222</td>\n",
       "      <td>POINT (7059944.605 2169652.046)</td>\n",
       "    </tr>\n",
       "    <tr>\n",
       "      <th>4</th>\n",
       "      <td>152.0</td>\n",
       "      <td>Behavioral Health</td>\n",
       "      <td>Interagency Services For Families</td>\n",
       "      <td>9890 County Farm Rd</td>\n",
       "      <td>Riverside</td>\n",
       "      <td>92503</td>\n",
       "      <td>951-358-4850</td>\n",
       "      <td>POINT (6195949.672 2280510.302)</td>\n",
       "    </tr>\n",
       "  </tbody>\n",
       "</table>\n",
       "</div>"
      ],
      "text/plain": [
       "   OBJECTID          SITE_TYPE                                     SITE_NAME  \\\n",
       "0     149.0  Behavioral Health                          Older Adult Services   \n",
       "1     150.0  Behavioral Health                 Children'S Treatment Services   \n",
       "2     151.0  Behavioral Health  Family, Adolescent, And Children'S Treatment   \n",
       "3     447.0  Behavioral Health                                 Blythe Clinic   \n",
       "4     152.0  Behavioral Health             Interagency Services For Families   \n",
       "\n",
       "               ADDRESS       CITY  ZIPCODE         PHONE  \\\n",
       "0   6355 Riverside Ave  Riverside    92506  951-369-0219   \n",
       "1  9990 County Farm Rd  Riverside    92503  951-358-4840   \n",
       "2    1195 Magnolia Ave     Corona    91719  951-273-0608   \n",
       "3    1297 W Hobson Way     Blythe    92225  760-770-2222   \n",
       "4  9890 County Farm Rd  Riverside    92503  951-358-4850   \n",
       "\n",
       "                          geometry  \n",
       "0  POINT (6216487.156 2291913.664)  \n",
       "1  POINT (6195566.226 2280519.190)  \n",
       "2  POINT (6168252.101 2261023.951)  \n",
       "3  POINT (7059944.605 2169652.046)  \n",
       "4  POINT (6195949.672 2280510.302)  "
      ]
     },
     "execution_count": 18,
     "metadata": {},
     "output_type": "execute_result"
    }
   ],
   "source": [
    "clinics_df.head()"
   ]
  },
  {
   "cell_type": "code",
   "execution_count": 19,
   "metadata": {
    "execution": {
     "iopub.execute_input": "2022-06-17T22:18:51.947853Z",
     "iopub.status.busy": "2022-06-17T22:18:51.947762Z",
     "iopub.status.idle": "2022-06-17T22:18:52.007789Z",
     "shell.execute_reply": "2022-06-17T22:18:52.007456Z",
     "shell.execute_reply.started": "2022-06-17T22:18:51.947844Z"
    }
   },
   "outputs": [
    {
     "data": {
      "text/plain": [
       "<Axes: >"
      ]
     },
     "execution_count": 19,
     "metadata": {},
     "output_type": "execute_result"
    },
    {
     "data": {
      "image/png": "[encoded data removed]",
      "text/plain": [
       "<Figure size 640x480 with 1 Axes>"
      ]
     },
     "metadata": {},
     "output_type": "display_data"
    }
   ],
   "source": [
    "clinics_df.plot()"
   ]
  },
  {
   "cell_type": "code",
   "execution_count": 20,
   "metadata": {
    "execution": {
     "iopub.execute_input": "2022-06-17T22:18:52.008424Z",
     "iopub.status.busy": "2022-06-17T22:18:52.008327Z",
     "iopub.status.idle": "2022-06-17T22:18:52.015644Z",
     "shell.execute_reply": "2022-06-17T22:18:52.015332Z",
     "shell.execute_reply.started": "2022-06-17T22:18:52.008414Z"
    }
   },
   "outputs": [
    {
     "data": {
      "text/plain": [
       "0     POINT (6216487.156 2291913.664)\n",
       "1     POINT (6195566.226 2280519.190)\n",
       "2     POINT (6168252.101 2261023.951)\n",
       "3     POINT (7059944.605 2169652.046)\n",
       "4     POINT (6195949.672 2280510.302)\n",
       "5     POINT (6195566.226 2280519.190)\n",
       "6     POINT (6255240.101 2281392.265)\n",
       "7     POINT (6162865.861 2269381.489)\n",
       "8     POINT (6195182.779 2280509.032)\n",
       "9     POINT (6342387.266 2220024.356)\n",
       "10    POINT (6195566.226 2280519.190)\n",
       "11    POINT (6577094.185 2205388.907)\n",
       "12    POINT (6195566.226 2280519.190)\n",
       "13    POINT (6283871.161 2136729.378)\n",
       "14    POINT (6229918.194 2307140.803)\n",
       "15    POINT (6496477.603 2228753.546)\n",
       "16    POINT (6342390.651 2220029.434)\n",
       "17    POINT (6265042.293 2237006.918)\n",
       "18    POINT (6341877.001 2233915.961)\n",
       "19    POINT (6283867.341 2136731.288)\n",
       "20    POINT (6367147.411 2280861.442)\n",
       "21    POINT (6496480.142 2228757.355)\n",
       "22    POINT (6570450.368 2198847.190)\n",
       "23    POINT (6234956.516 2303352.150)\n",
       "24    POINT (6195566.226 2280520.460)\n",
       "25    POINT (6216489.695 2291912.394)\n",
       "26    POINT (6229918.194 2307139.534)\n",
       "27    POINT (6229920.733 2307139.534)\n",
       "Name: geometry, dtype: geometry"
      ]
     },
     "execution_count": 20,
     "metadata": {},
     "output_type": "execute_result"
    }
   ],
   "source": [
    "clinics_df.geometry"
   ]
  },
  {
   "cell_type": "code",
   "execution_count": 21,
   "metadata": {
    "execution": {
     "iopub.execute_input": "2022-06-17T22:18:52.016114Z",
     "iopub.status.busy": "2022-06-17T22:18:52.016028Z",
     "iopub.status.idle": "2022-06-17T22:18:52.022097Z",
     "shell.execute_reply": "2022-06-17T22:18:52.020657Z",
     "shell.execute_reply.started": "2022-06-17T22:18:52.016106Z"
    }
   },
   "outputs": [
    {
     "data": {
      "text/plain": [
       "0         6355 Riverside Ave\n",
       "1        9990 County Farm Rd\n",
       "2          1195 Magnolia Ave\n",
       "3          1297 W Hobson Way\n",
       "4        9890 County Farm Rd\n",
       "5        9990 County Farm Rd\n",
       "6       23119 Cottonwood Ave\n",
       "7              623 N Main St\n",
       "8       10000 County Farm Rd\n",
       "9             650 N State St\n",
       "10       9990 County Farm Rd\n",
       "11             83-912 Ave 45\n",
       "12       9990 County Farm Rd\n",
       "13    41002 County Center Dr\n",
       "14          1827 Atlanta Ave\n",
       "15           68-615 Perez Rd\n",
       "16            650 N State St\n",
       "17        1688 N Perris Blvd\n",
       "18         950 N Ramona Blvd\n",
       "19    41002 County Center Dr\n",
       "20          1330 W Ramsey St\n",
       "21           68-615 Perez Rd\n",
       "22           47-825 Oasis St\n",
       "23             769 Blaine St\n",
       "24       9990 County Farm Rd\n",
       "25        6355 Riverside Ave\n",
       "26          1827 Atlanta Ave\n",
       "27          1827 Atlanta Ave\n",
       "Name: ADDRESS, dtype: object"
      ]
     },
     "execution_count": 21,
     "metadata": {},
     "output_type": "execute_result"
    }
   ],
   "source": [
    "clinics_df.ADDRESS"
   ]
  },
  {
   "cell_type": "code",
   "execution_count": 22,
   "metadata": {
    "execution": {
     "iopub.execute_input": "2022-06-17T22:18:52.022870Z",
     "iopub.status.busy": "2022-06-17T22:18:52.022753Z",
     "iopub.status.idle": "2022-06-17T22:18:52.029674Z",
     "shell.execute_reply": "2022-06-17T22:18:52.028595Z",
     "shell.execute_reply.started": "2022-06-17T22:18:52.022860Z"
    }
   },
   "outputs": [
    {
     "data": {
      "text/plain": [
       "18"
      ]
     },
     "execution_count": 22,
     "metadata": {},
     "output_type": "execute_result"
    }
   ],
   "source": [
    "len(clinics_df.ADDRESS.unique()) # note some clinics have the same address (different types of services provided at same location)"
   ]
  },
  {
   "cell_type": "markdown",
   "metadata": {},
   "source": [
    "## Integrating spatial datasets\n",
    "Let's assume the role of a public health epidemiologist who is interested in equity issues surrounding access to mental health services. We have two datasets to work with here:\n",
    "\n",
    "- the clinics (points in Riverside County)\n",
    "- the tracts for all of Southern California\n",
    "\n",
    "We will thus want to narrow down the focus to Riverside county. So first, we need to extract the tracts for the county from the larger region:\n"
   ]
  },
  {
   "cell_type": "markdown",
   "metadata": {},
   "source": [
    "## Extracting Riverside County Tracts"
   ]
  },
  {
   "cell_type": "code",
   "execution_count": 23,
   "metadata": {
    "execution": {
     "iopub.execute_input": "2022-06-17T22:18:52.030415Z",
     "iopub.status.busy": "2022-06-17T22:18:52.030306Z",
     "iopub.status.idle": "2022-06-17T22:18:52.127577Z",
     "shell.execute_reply": "2022-06-17T22:18:52.127206Z",
     "shell.execute_reply.started": "2022-06-17T22:18:52.030405Z"
    }
   },
   "outputs": [
    {
     "data": {
      "text/plain": [
       "<Axes: >"
      ]
     },
     "execution_count": 23,
     "metadata": {},
     "output_type": "execute_result"
    },
    {
     "data": {
      "image/png": "[encoded data removed]",
      "text/plain": [
       "<Figure size 640x480 with 1 Axes>"
      ]
     },
     "metadata": {},
     "output_type": "display_data"
    }
   ],
   "source": [
    "rc = scag[scag['geoid'].str.match(\"^06065\")] # ^ means start of string, $ means end of string (^06065$ would be exact match)\n",
    "\n",
    "rc.plot()"
   ]
  },
  {
   "cell_type": "markdown",
   "metadata": {},
   "source": [
    "## Spatial Joins\n",
    "\n",
    "With the two datasets in hand, we would like to know the answer to the following question:\n",
    "\n",
    "> How many clinics are in each census tract in Riverside County?\n",
    "\n",
    "To get at this answer will can use a [spatial join](https://gisgeography.com/spatial-join/). \n",
    "The idea here is to create a linkage between each clinic (point) and the tract (polygon) that the clinic lies within.\n",
    "\n",
    "The answer to our question will be the number of matches found for each census tract.\n",
    "\n",
    "In geopandas the spatial join is done with the `sjoin` method of the GeoDataFrame:\n"
   ]
  },
  {
   "cell_type": "markdown",
   "metadata": {},
   "source": [
    "Geometry A is `within` Geometry B if A is completely inside B.\n",
    "For instance, a point is within a polygon if it lies inside the boundaries of that polygon.\n",
    "\n",
    "\n",
    "Geometry A `intersects` Geometry B if they have any portion of space in common.\n",
    "This is true even if the only shared space is on their boundaries. For example, two polygons that share a side or a point and a line that touches at one point would intersect.\n",
    "\n",
    "Geometry A `contains` Geometry B if B is entirely within A.\n",
    "This is the inverse of within. For example, a polygon contains a point if the point lies inside it.\n",
    "\n",
    "\n",
    "Geometry A `touches` Geometry B if they have common points, and their interior does not intersect.\n",
    "For instance, two polygons that share only a border (and no interior space) touch each other.\n",
    "\n",
    "\n",
    "Geometry A `crosses` Geometry B if they have some, but not all, interior points in common.\n",
    "This is typically used for linear features. For example, a line crosses a polygon if it enters the polygon's interior and exits again, but doesn't stay entirely inside.\n",
    "\n",
    "\n",
    "Geometry A `overlaps` Geometry B if they have some part of their interior in common, but neither completely encompasses the other.\n",
    "For polygons, this would mean that they partially overlap, but one doesn't entirely contain the other. For lines, it means they share a portion of line space but are not equal.\n"
   ]
  },
  {
   "cell_type": "code",
   "execution_count": 24,
   "metadata": {
    "execution": {
     "iopub.execute_input": "2022-06-17T22:18:52.128155Z",
     "iopub.status.busy": "2022-06-17T22:18:52.128059Z",
     "iopub.status.idle": "2022-06-17T22:18:52.140022Z",
     "shell.execute_reply": "2022-06-17T22:18:52.139689Z",
     "shell.execute_reply.started": "2022-06-17T22:18:52.128146Z"
    }
   },
   "outputs": [
    {
     "name": "stderr",
     "output_type": "stream",
     "text": [
      "c:\\Users\\moeth\\anaconda3\\envs\\GeospatialPython\\lib\\site-packages\\IPython\\core\\interactiveshell.py:3466: FutureWarning: The `op` parameter is deprecated and will be removed in a future release. Please use the `predicate` parameter instead.\n",
      "  if await self.run_code(code, result, async_=asy):\n",
      "C:\\Users\\moeth\\AppData\\Local\\Temp\\ipykernel_19344\\2722834553.py:1: UserWarning: CRS mismatch between the CRS of left geometries and the CRS of right geometries.\n",
      "Use `to_crs()` to reproject one of the input geometries to match the CRS of the other.\n",
      "\n",
      "Left CRS: EPSG:2230\n",
      "Right CRS: EPSG:4326\n",
      "\n",
      "  clinics_tracts = gpd.sjoin(clinics_df, rc, op='within') #within, intersects, contains, touches, crosses, overlaps\n"
     ]
    }
   ],
   "source": [
    "clinics_tracts = gpd.sjoin(clinics_df, rc, op='within') #within, intersects, contains, touches, crosses, overlaps"
   ]
  },
  {
   "cell_type": "markdown",
   "metadata": {},
   "source": [
    "We see a warning here, that alerts us to a mismatch between the CRS: [Coordinate Reference Systems](https://www.w3.org/2015/spatial/wiki/Coordinate_Reference_Systems) of the two GeoDataFrames. We can inspect these to see what is going on:"
   ]
  },
  {
   "cell_type": "code",
   "execution_count": 25,
   "metadata": {
    "execution": {
     "iopub.execute_input": "2022-06-17T22:18:52.140736Z",
     "iopub.status.busy": "2022-06-17T22:18:52.140629Z",
     "iopub.status.idle": "2022-06-17T22:18:52.145568Z",
     "shell.execute_reply": "2022-06-17T22:18:52.145179Z",
     "shell.execute_reply.started": "2022-06-17T22:18:52.140727Z"
    }
   },
   "outputs": [
    {
     "data": {
      "text/plain": [
       "<Projected CRS: EPSG:2230>\n",
       "Name: NAD83 / California zone 6 (ftUS)\n",
       "Axis Info [cartesian]:\n",
       "- X[east]: Easting (US survey foot)\n",
       "- Y[north]: Northing (US survey foot)\n",
       "Area of Use:\n",
       "- name: United States (USA) - California - counties Imperial; Orange; Riverside; San Diego.\n",
       "- bounds: (-118.15, 32.53, -114.42, 34.08)\n",
       "Coordinate Operation:\n",
       "- name: SPCS83 California zone 6 (US Survey feet)\n",
       "- method: Lambert Conic Conformal (2SP)\n",
       "Datum: North American Datum 1983\n",
       "- Ellipsoid: GRS 1980\n",
       "- Prime Meridian: Greenwich"
      ]
     },
     "execution_count": 25,
     "metadata": {},
     "output_type": "execute_result"
    }
   ],
   "source": [
    "clinics_df.crs"
   ]
  },
  {
   "cell_type": "code",
   "execution_count": 26,
   "metadata": {
    "execution": {
     "iopub.execute_input": "2022-06-17T22:18:52.146196Z",
     "iopub.status.busy": "2022-06-17T22:18:52.146105Z",
     "iopub.status.idle": "2022-06-17T22:18:52.150149Z",
     "shell.execute_reply": "2022-06-17T22:18:52.149424Z",
     "shell.execute_reply.started": "2022-06-17T22:18:52.146187Z"
    }
   },
   "outputs": [
    {
     "data": {
      "text/plain": [
       "<Geographic 2D CRS: EPSG:4326>\n",
       "Name: WGS 84\n",
       "Axis Info [ellipsoidal]:\n",
       "- Lat[north]: Geodetic latitude (degree)\n",
       "- Lon[east]: Geodetic longitude (degree)\n",
       "Area of Use:\n",
       "- name: World.\n",
       "- bounds: (-180.0, -90.0, 180.0, 90.0)\n",
       "Datum: World Geodetic System 1984 ensemble\n",
       "- Ellipsoid: WGS 84\n",
       "- Prime Meridian: Greenwich"
      ]
     },
     "execution_count": 26,
     "metadata": {},
     "output_type": "execute_result"
    }
   ],
   "source": [
    "rc.crs"
   ]
  },
  {
   "cell_type": "markdown",
   "metadata": {},
   "source": [
    "So the clinics have a unit of feet, while the tracts are in degrees. The spatial join will be incorrect because of this since the observations from the two dataframes are in different coordinate systems:"
   ]
  },
  {
   "cell_type": "code",
   "execution_count": 27,
   "metadata": {
    "execution": {
     "iopub.execute_input": "2022-06-17T22:18:52.150799Z",
     "iopub.status.busy": "2022-06-17T22:18:52.150663Z",
     "iopub.status.idle": "2022-06-17T22:18:52.157992Z",
     "shell.execute_reply": "2022-06-17T22:18:52.157639Z",
     "shell.execute_reply.started": "2022-06-17T22:18:52.150787Z"
    }
   },
   "outputs": [
    {
     "data": {
      "text/html": [
       "<div>\n",
       "<style scoped>\n",
       "    .dataframe tbody tr th:only-of-type {\n",
       "        vertical-align: middle;\n",
       "    }\n",
       "\n",
       "    .dataframe tbody tr th {\n",
       "        vertical-align: top;\n",
       "    }\n",
       "\n",
       "    .dataframe thead th {\n",
       "        text-align: right;\n",
       "    }\n",
       "</style>\n",
       "<table border=\"1\" class=\"dataframe\">\n",
       "  <thead>\n",
       "    <tr style=\"text-align: right;\">\n",
       "      <th></th>\n",
       "      <th>OBJECTID</th>\n",
       "      <th>SITE_TYPE</th>\n",
       "      <th>SITE_NAME</th>\n",
       "      <th>ADDRESS</th>\n",
       "      <th>CITY</th>\n",
       "      <th>ZIPCODE</th>\n",
       "      <th>PHONE</th>\n",
       "      <th>geometry</th>\n",
       "      <th>index_right</th>\n",
       "      <th>geoid</th>\n",
       "      <th>...</th>\n",
       "      <th>n_white_persons</th>\n",
       "      <th>year</th>\n",
       "      <th>n_total_housing_units_sample</th>\n",
       "      <th>p_nonhisp_white_persons</th>\n",
       "      <th>p_white_over_60</th>\n",
       "      <th>p_black_over_60</th>\n",
       "      <th>p_hispanic_over_60</th>\n",
       "      <th>p_native_over_60</th>\n",
       "      <th>p_asian_over_60</th>\n",
       "      <th>p_disabled</th>\n",
       "    </tr>\n",
       "  </thead>\n",
       "  <tbody>\n",
       "  </tbody>\n",
       "</table>\n",
       "<p>0 rows × 202 columns</p>\n",
       "</div>"
      ],
      "text/plain": [
       "Empty GeoDataFrame\n",
       "Columns: [OBJECTID, SITE_TYPE, SITE_NAME, ADDRESS, CITY, ZIPCODE, PHONE, geometry, index_right, geoid, n_asian_under_15, n_black_under_15, n_hispanic_under_15, n_native_under_15, n_white_under_15, n_persons_under_18, n_asian_over_60, n_black_over_60, n_hispanic_over_60, n_native_over_60, n_persons_over_60, n_white_over_60, n_asian_over_65, n_black_over_65, n_hispanic_over_65, n_native_over_65, n_white_over_65, n_persons_over_75, n_persons_over_15, n_civilians_over_16, n_civilians_over_18, n_persons_over_25, n_age_5_older, n_asian_age_distribution, n_black_age_distribution, n_hispanic_age_distribution, n_native_age_distribution, n_white_age_distribution, n_asian_persons, n_black_persons, n_chinese_persons, n_labor_force, n_civilians_16_64, n_edu_college_greater, n_cuban_pop, n_poverty_determined_asian, n_poverty_determined_black, n_total_pop_sample, n_female_over_16, n_poverty_determined_families, n_poverty_determined_hispanic, n_disabled, n_housing_units_multiunit_structures_denom, n_poverty_determined_native, n_poverty_determined_persons, n_poverty_determined_white, n_employed_over_16, n_total_families, n_foreign_born_pop, n_female_headed_families, n_filipino_persons, n_female_labor_force, n_german_pop, n_german_born_pop, n_household_recent_move, n_structures_30_old, n_hawaiian_persons, n_total_households, n_asian_households, n_black_households, n_hispanic_households, n_white_households, median_household_income, median_income_asianhh, median_income_blackhh, median_income_hispanichh, median_income_whitehh, n_hispanic_persons, n_edu_hs_less, n_total_housing_units, per_capita_income, n_asian_indian_persons, n_irish_pop, n_irish_born_pop, n_italian_pop, n_italian_born_pop, n_japanese_persons, n_korean_persons, n_limited_english, n_employed_manufacturing, n_married, n_mexican_pop, median_home_value, median_contract_rent, n_housing_units_multiunit_structures, n_recent_immigrant_pop, n_poverty_over_65, n_poverty_asian, n_naturalized_pop, n_poverty_black, ...]\n",
       "Index: []\n",
       "\n",
       "[0 rows x 202 columns]"
      ]
     },
     "execution_count": 27,
     "metadata": {},
     "output_type": "execute_result"
    }
   ],
   "source": [
    "clinics_tracts"
   ]
  },
  {
   "cell_type": "markdown",
   "metadata": {},
   "source": [
    "To rectify this, we need to have both GeoDataFrames in the same CRS. Let's change the CRS of the tracts GeoDataFrame which is currently:\n"
   ]
  },
  {
   "cell_type": "code",
   "execution_count": 28,
   "metadata": {
    "execution": {
     "iopub.execute_input": "2022-06-17T22:18:52.158605Z",
     "iopub.status.busy": "2022-06-17T22:18:52.158444Z",
     "iopub.status.idle": "2022-06-17T22:18:52.252334Z",
     "shell.execute_reply": "2022-06-17T22:18:52.251956Z",
     "shell.execute_reply.started": "2022-06-17T22:18:52.158593Z"
    }
   },
   "outputs": [
    {
     "data": {
      "text/plain": [
       "<Axes: >"
      ]
     },
     "execution_count": 28,
     "metadata": {},
     "output_type": "execute_result"
    },
    {
     "data": {
      "image/png": "[encoded data removed]",
      "text/plain": [
       "<Figure size 640x480 with 1 Axes>"
      ]
     },
     "metadata": {},
     "output_type": "display_data"
    }
   ],
   "source": [
    "rc.plot()"
   ]
  },
  {
   "cell_type": "markdown",
   "metadata": {},
   "source": [
    "To change this, we notice the helpful suggestion in the warning above to use the `to_crs` method. Let's try it to see how this works:"
   ]
  },
  {
   "cell_type": "code",
   "execution_count": 29,
   "metadata": {
    "execution": {
     "iopub.execute_input": "2022-06-17T22:18:52.253376Z",
     "iopub.status.busy": "2022-06-17T22:18:52.252978Z",
     "iopub.status.idle": "2022-06-17T22:18:52.814387Z",
     "shell.execute_reply": "2022-06-17T22:18:52.814086Z",
     "shell.execute_reply.started": "2022-06-17T22:18:52.253364Z"
    }
   },
   "outputs": [
    {
     "data": {
      "text/plain": [
       "<Axes: >"
      ]
     },
     "execution_count": 29,
     "metadata": {},
     "output_type": "execute_result"
    },
    {
     "data": {
      "image/png": "[encoded data removed]",
      "text/plain": [
       "<Figure size 640x480 with 1 Axes>"
      ]
     },
     "metadata": {},
     "output_type": "display_data"
    }
   ],
   "source": [
    "rc.to_crs(clinics_df.crs).plot()"
   ]
  },
  {
   "cell_type": "markdown",
   "metadata": {},
   "source": [
    "Comparison of the two plots shows us that the CRS has been changed. We did not assign the object yet (which is good practice when experimenting). But it does what we need, so lets assign the result to redefine our tracts GeoDataFrame:"
   ]
  },
  {
   "cell_type": "code",
   "execution_count": 30,
   "metadata": {
    "execution": {
     "iopub.execute_input": "2022-06-17T22:18:52.815043Z",
     "iopub.status.busy": "2022-06-17T22:18:52.814958Z",
     "iopub.status.idle": "2022-06-17T22:18:52.835332Z",
     "shell.execute_reply": "2022-06-17T22:18:52.834862Z",
     "shell.execute_reply.started": "2022-06-17T22:18:52.815034Z"
    }
   },
   "outputs": [],
   "source": [
    "rc = rc.to_crs(clinics_df.crs)"
   ]
  },
  {
   "cell_type": "code",
   "execution_count": 31,
   "metadata": {
    "execution": {
     "iopub.execute_input": "2022-06-17T22:18:52.835842Z",
     "iopub.status.busy": "2022-06-17T22:18:52.835753Z",
     "iopub.status.idle": "2022-06-17T22:18:52.846643Z",
     "shell.execute_reply": "2022-06-17T22:18:52.846281Z",
     "shell.execute_reply.started": "2022-06-17T22:18:52.835833Z"
    }
   },
   "outputs": [],
   "source": [
    "clinics_tracts = gpd.sjoin(clinics_df, rc, predicate='within')"
   ]
  },
  {
   "cell_type": "code",
   "execution_count": 32,
   "metadata": {
    "execution": {
     "iopub.execute_input": "2022-06-17T22:18:52.847149Z",
     "iopub.status.busy": "2022-06-17T22:18:52.847054Z",
     "iopub.status.idle": "2022-06-17T22:18:52.865731Z",
     "shell.execute_reply": "2022-06-17T22:18:52.865235Z",
     "shell.execute_reply.started": "2022-06-17T22:18:52.847140Z"
    }
   },
   "outputs": [
    {
     "data": {
      "text/html": [
       "<div>\n",
       "<style scoped>\n",
       "    .dataframe tbody tr th:only-of-type {\n",
       "        vertical-align: middle;\n",
       "    }\n",
       "\n",
       "    .dataframe tbody tr th {\n",
       "        vertical-align: top;\n",
       "    }\n",
       "\n",
       "    .dataframe thead th {\n",
       "        text-align: right;\n",
       "    }\n",
       "</style>\n",
       "<table border=\"1\" class=\"dataframe\">\n",
       "  <thead>\n",
       "    <tr style=\"text-align: right;\">\n",
       "      <th></th>\n",
       "      <th>OBJECTID</th>\n",
       "      <th>SITE_TYPE</th>\n",
       "      <th>SITE_NAME</th>\n",
       "      <th>ADDRESS</th>\n",
       "      <th>CITY</th>\n",
       "      <th>ZIPCODE</th>\n",
       "      <th>PHONE</th>\n",
       "      <th>geometry</th>\n",
       "      <th>index_right</th>\n",
       "      <th>geoid</th>\n",
       "      <th>...</th>\n",
       "      <th>n_white_persons</th>\n",
       "      <th>year</th>\n",
       "      <th>n_total_housing_units_sample</th>\n",
       "      <th>p_nonhisp_white_persons</th>\n",
       "      <th>p_white_over_60</th>\n",
       "      <th>p_black_over_60</th>\n",
       "      <th>p_hispanic_over_60</th>\n",
       "      <th>p_native_over_60</th>\n",
       "      <th>p_asian_over_60</th>\n",
       "      <th>p_disabled</th>\n",
       "    </tr>\n",
       "  </thead>\n",
       "  <tbody>\n",
       "    <tr>\n",
       "      <th>0</th>\n",
       "      <td>149.0</td>\n",
       "      <td>Behavioral Health</td>\n",
       "      <td>Older Adult Services</td>\n",
       "      <td>6355 Riverside Ave</td>\n",
       "      <td>Riverside</td>\n",
       "      <td>92506</td>\n",
       "      <td>951-369-0219</td>\n",
       "      <td>POINT (6216487.156 2291913.664)</td>\n",
       "      <td>661</td>\n",
       "      <td>06065031100</td>\n",
       "      <td>...</td>\n",
       "      <td>NaN</td>\n",
       "      <td>2010</td>\n",
       "      <td>1715.0</td>\n",
       "      <td>49.159311</td>\n",
       "      <td>NaN</td>\n",
       "      <td>NaN</td>\n",
       "      <td>NaN</td>\n",
       "      <td>NaN</td>\n",
       "      <td>NaN</td>\n",
       "      <td>NaN</td>\n",
       "    </tr>\n",
       "    <tr>\n",
       "      <th>25</th>\n",
       "      <td>146.0</td>\n",
       "      <td>Behavioral Health</td>\n",
       "      <td>Adult Mental Health Services - Central Clinic</td>\n",
       "      <td>6355 Riverside Ave</td>\n",
       "      <td>Riverside</td>\n",
       "      <td>92506</td>\n",
       "      <td>951-369-5714</td>\n",
       "      <td>POINT (6216489.695 2291912.394)</td>\n",
       "      <td>661</td>\n",
       "      <td>06065031100</td>\n",
       "      <td>...</td>\n",
       "      <td>NaN</td>\n",
       "      <td>2010</td>\n",
       "      <td>1715.0</td>\n",
       "      <td>49.159311</td>\n",
       "      <td>NaN</td>\n",
       "      <td>NaN</td>\n",
       "      <td>NaN</td>\n",
       "      <td>NaN</td>\n",
       "      <td>NaN</td>\n",
       "      <td>NaN</td>\n",
       "    </tr>\n",
       "    <tr>\n",
       "      <th>1</th>\n",
       "      <td>150.0</td>\n",
       "      <td>Behavioral Health</td>\n",
       "      <td>Children'S Treatment Services</td>\n",
       "      <td>9990 County Farm Rd</td>\n",
       "      <td>Riverside</td>\n",
       "      <td>92503</td>\n",
       "      <td>951-358-4840</td>\n",
       "      <td>POINT (6195566.226 2280519.190)</td>\n",
       "      <td>1798</td>\n",
       "      <td>06065041201</td>\n",
       "      <td>...</td>\n",
       "      <td>NaN</td>\n",
       "      <td>2010</td>\n",
       "      <td>1135.0</td>\n",
       "      <td>25.836431</td>\n",
       "      <td>NaN</td>\n",
       "      <td>NaN</td>\n",
       "      <td>NaN</td>\n",
       "      <td>NaN</td>\n",
       "      <td>NaN</td>\n",
       "      <td>NaN</td>\n",
       "    </tr>\n",
       "    <tr>\n",
       "      <th>4</th>\n",
       "      <td>152.0</td>\n",
       "      <td>Behavioral Health</td>\n",
       "      <td>Interagency Services For Families</td>\n",
       "      <td>9890 County Farm Rd</td>\n",
       "      <td>Riverside</td>\n",
       "      <td>92503</td>\n",
       "      <td>951-358-4850</td>\n",
       "      <td>POINT (6195949.672 2280510.302)</td>\n",
       "      <td>1798</td>\n",
       "      <td>06065041201</td>\n",
       "      <td>...</td>\n",
       "      <td>NaN</td>\n",
       "      <td>2010</td>\n",
       "      <td>1135.0</td>\n",
       "      <td>25.836431</td>\n",
       "      <td>NaN</td>\n",
       "      <td>NaN</td>\n",
       "      <td>NaN</td>\n",
       "      <td>NaN</td>\n",
       "      <td>NaN</td>\n",
       "      <td>NaN</td>\n",
       "    </tr>\n",
       "    <tr>\n",
       "      <th>5</th>\n",
       "      <td>448.0</td>\n",
       "      <td>Behavioral Health</td>\n",
       "      <td>Children'S Evaluation Services Unite</td>\n",
       "      <td>9990 County Farm Rd</td>\n",
       "      <td>Riverside</td>\n",
       "      <td>92503</td>\n",
       "      <td>951-358-7380</td>\n",
       "      <td>POINT (6195566.226 2280519.190)</td>\n",
       "      <td>1798</td>\n",
       "      <td>06065041201</td>\n",
       "      <td>...</td>\n",
       "      <td>NaN</td>\n",
       "      <td>2010</td>\n",
       "      <td>1135.0</td>\n",
       "      <td>25.836431</td>\n",
       "      <td>NaN</td>\n",
       "      <td>NaN</td>\n",
       "      <td>NaN</td>\n",
       "      <td>NaN</td>\n",
       "      <td>NaN</td>\n",
       "      <td>NaN</td>\n",
       "    </tr>\n",
       "  </tbody>\n",
       "</table>\n",
       "<p>5 rows × 202 columns</p>\n",
       "</div>"
      ],
      "text/plain": [
       "    OBJECTID          SITE_TYPE  \\\n",
       "0      149.0  Behavioral Health   \n",
       "25     146.0  Behavioral Health   \n",
       "1      150.0  Behavioral Health   \n",
       "4      152.0  Behavioral Health   \n",
       "5      448.0  Behavioral Health   \n",
       "\n",
       "                                        SITE_NAME              ADDRESS  \\\n",
       "0                            Older Adult Services   6355 Riverside Ave   \n",
       "25  Adult Mental Health Services - Central Clinic   6355 Riverside Ave   \n",
       "1                   Children'S Treatment Services  9990 County Farm Rd   \n",
       "4               Interagency Services For Families  9890 County Farm Rd   \n",
       "5            Children'S Evaluation Services Unite  9990 County Farm Rd   \n",
       "\n",
       "         CITY  ZIPCODE         PHONE                         geometry  \\\n",
       "0   Riverside    92506  951-369-0219  POINT (6216487.156 2291913.664)   \n",
       "25  Riverside    92506  951-369-5714  POINT (6216489.695 2291912.394)   \n",
       "1   Riverside    92503  951-358-4840  POINT (6195566.226 2280519.190)   \n",
       "4   Riverside    92503  951-358-4850  POINT (6195949.672 2280510.302)   \n",
       "5   Riverside    92503  951-358-7380  POINT (6195566.226 2280519.190)   \n",
       "\n",
       "    index_right        geoid  ...  n_white_persons  year  \\\n",
       "0           661  06065031100  ...              NaN  2010   \n",
       "25          661  06065031100  ...              NaN  2010   \n",
       "1          1798  06065041201  ...              NaN  2010   \n",
       "4          1798  06065041201  ...              NaN  2010   \n",
       "5          1798  06065041201  ...              NaN  2010   \n",
       "\n",
       "    n_total_housing_units_sample  p_nonhisp_white_persons  p_white_over_60  \\\n",
       "0                         1715.0                49.159311              NaN   \n",
       "25                        1715.0                49.159311              NaN   \n",
       "1                         1135.0                25.836431              NaN   \n",
       "4                         1135.0                25.836431              NaN   \n",
       "5                         1135.0                25.836431              NaN   \n",
       "\n",
       "    p_black_over_60  p_hispanic_over_60  p_native_over_60  p_asian_over_60  \\\n",
       "0               NaN                 NaN               NaN              NaN   \n",
       "25              NaN                 NaN               NaN              NaN   \n",
       "1               NaN                 NaN               NaN              NaN   \n",
       "4               NaN                 NaN               NaN              NaN   \n",
       "5               NaN                 NaN               NaN              NaN   \n",
       "\n",
       "    p_disabled  \n",
       "0          NaN  \n",
       "25         NaN  \n",
       "1          NaN  \n",
       "4          NaN  \n",
       "5          NaN  \n",
       "\n",
       "[5 rows x 202 columns]"
      ]
     },
     "execution_count": 32,
     "metadata": {},
     "output_type": "execute_result"
    }
   ],
   "source": [
    "clinics_tracts.head()"
   ]
  },
  {
   "cell_type": "markdown",
   "metadata": {},
   "source": [
    "Now we see the spatial join has worked. There are 28 matches (one for each clinic) and this is stored in a new GeoDataFrame called: `clinics_tracts`."
   ]
  },
  {
   "cell_type": "markdown",
   "metadata": {},
   "source": [
    "## Determine the number of clinics in each tract\n",
    "\n",
    "Returning to our question, we can find the number of clinics in each of the tracts in this new GeoDataFrame by using the `group_by` method:"
   ]
  },
  {
   "cell_type": "code",
   "execution_count": 33,
   "metadata": {
    "execution": {
     "iopub.execute_input": "2022-06-17T22:18:52.866379Z",
     "iopub.status.busy": "2022-06-17T22:18:52.866258Z",
     "iopub.status.idle": "2022-06-17T22:18:52.872991Z",
     "shell.execute_reply": "2022-06-17T22:18:52.872590Z",
     "shell.execute_reply.started": "2022-06-17T22:18:52.866370Z"
    }
   },
   "outputs": [
    {
     "data": {
      "text/html": [
       "<div>\n",
       "<style scoped>\n",
       "    .dataframe tbody tr th:only-of-type {\n",
       "        vertical-align: middle;\n",
       "    }\n",
       "\n",
       "    .dataframe tbody tr th {\n",
       "        vertical-align: top;\n",
       "    }\n",
       "\n",
       "    .dataframe thead th {\n",
       "        text-align: right;\n",
       "    }\n",
       "</style>\n",
       "<table border=\"1\" class=\"dataframe\">\n",
       "  <thead>\n",
       "    <tr style=\"text-align: right;\">\n",
       "      <th></th>\n",
       "      <th>index_right</th>\n",
       "    </tr>\n",
       "    <tr>\n",
       "      <th>geoid</th>\n",
       "      <th></th>\n",
       "    </tr>\n",
       "  </thead>\n",
       "  <tbody>\n",
       "    <tr>\n",
       "      <th>06065031100</th>\n",
       "      <td>2</td>\n",
       "    </tr>\n",
       "    <tr>\n",
       "      <th>06065040809</th>\n",
       "      <td>1</td>\n",
       "    </tr>\n",
       "    <tr>\n",
       "      <th>06065041201</th>\n",
       "      <td>7</td>\n",
       "    </tr>\n",
       "    <tr>\n",
       "      <th>06065041813</th>\n",
       "      <td>1</td>\n",
       "    </tr>\n",
       "    <tr>\n",
       "      <th>06065042209</th>\n",
       "      <td>3</td>\n",
       "    </tr>\n",
       "    <tr>\n",
       "      <th>06065042210</th>\n",
       "      <td>1</td>\n",
       "    </tr>\n",
       "    <tr>\n",
       "      <th>06065042512</th>\n",
       "      <td>1</td>\n",
       "    </tr>\n",
       "    <tr>\n",
       "      <th>06065042620</th>\n",
       "      <td>1</td>\n",
       "    </tr>\n",
       "    <tr>\n",
       "      <th>06065043507</th>\n",
       "      <td>2</td>\n",
       "    </tr>\n",
       "    <tr>\n",
       "      <th>06065044101</th>\n",
       "      <td>1</td>\n",
       "    </tr>\n",
       "    <tr>\n",
       "      <th>06065045000</th>\n",
       "      <td>2</td>\n",
       "    </tr>\n",
       "    <tr>\n",
       "      <th>06065045303</th>\n",
       "      <td>1</td>\n",
       "    </tr>\n",
       "    <tr>\n",
       "      <th>06065045501</th>\n",
       "      <td>1</td>\n",
       "    </tr>\n",
       "    <tr>\n",
       "      <th>06065046102</th>\n",
       "      <td>1</td>\n",
       "    </tr>\n",
       "    <tr>\n",
       "      <th>06065049600</th>\n",
       "      <td>2</td>\n",
       "    </tr>\n",
       "    <tr>\n",
       "      <th>06065051300</th>\n",
       "      <td>1</td>\n",
       "    </tr>\n",
       "  </tbody>\n",
       "</table>\n",
       "</div>"
      ],
      "text/plain": [
       "             index_right\n",
       "geoid                   \n",
       "06065031100            2\n",
       "06065040809            1\n",
       "06065041201            7\n",
       "06065041813            1\n",
       "06065042209            3\n",
       "06065042210            1\n",
       "06065042512            1\n",
       "06065042620            1\n",
       "06065043507            2\n",
       "06065044101            1\n",
       "06065045000            2\n",
       "06065045303            1\n",
       "06065045501            1\n",
       "06065046102            1\n",
       "06065049600            2\n",
       "06065051300            1"
      ]
     },
     "execution_count": 33,
     "metadata": {},
     "output_type": "execute_result"
    }
   ],
   "source": [
    "clinics_tracts[['geoid', 'index_right']].groupby('geoid').agg('count')\n",
    "# clinics_tracts.groupby('geoid')[\"index_right\"].count().to_frame()"
   ]
  },
  {
   "cell_type": "markdown",
   "metadata": {},
   "source": [
    "This works, so let's create another DataFrame to store these counts:"
   ]
  },
  {
   "cell_type": "code",
   "execution_count": 34,
   "metadata": {
    "execution": {
     "iopub.execute_input": "2022-06-17T22:18:52.873509Z",
     "iopub.status.busy": "2022-06-17T22:18:52.873417Z",
     "iopub.status.idle": "2022-06-17T22:18:52.879303Z",
     "shell.execute_reply": "2022-06-17T22:18:52.878876Z",
     "shell.execute_reply.started": "2022-06-17T22:18:52.873501Z"
    }
   },
   "outputs": [
    {
     "data": {
      "text/plain": [
       "(16, 1)"
      ]
     },
     "execution_count": 34,
     "metadata": {},
     "output_type": "execute_result"
    }
   ],
   "source": [
    "ct = clinics_tracts[['geoid', 'index_right']].groupby('geoid').agg('count')\n",
    "ct.shape"
   ]
  },
  {
   "cell_type": "markdown",
   "metadata": {},
   "source": [
    "## Table Join\n",
    "\n"
   ]
  },
  {
   "cell_type": "markdown",
   "metadata": {},
   "source": [
    "We now know for the tracts that contain at least one clinic, how many clinics they contain. This implies that the tracts that are not in the `ct` GeoDataFrame do not contain a clinic. What we would like to have is an additional attribute on our `rc` tracts GeoDataFrame that stores the number of clinics in each tract - for all tracts in Riverside County.\n",
    "\n",
    "We can do this in two remaining steps:\n",
    "\n",
    "- a table join on the `geoid` column \n",
    "- setting NA values to 0"
   ]
  },
  {
   "cell_type": "code",
   "execution_count": 35,
   "metadata": {
    "execution": {
     "iopub.execute_input": "2022-06-17T22:18:52.880045Z",
     "iopub.status.busy": "2022-06-17T22:18:52.879887Z",
     "iopub.status.idle": "2022-06-17T22:18:52.898938Z",
     "shell.execute_reply": "2022-06-17T22:18:52.898635Z",
     "shell.execute_reply.started": "2022-06-17T22:18:52.880034Z"
    }
   },
   "outputs": [
    {
     "data": {
      "text/html": [
       "<div>\n",
       "<style scoped>\n",
       "    .dataframe tbody tr th:only-of-type {\n",
       "        vertical-align: middle;\n",
       "    }\n",
       "\n",
       "    .dataframe tbody tr th {\n",
       "        vertical-align: top;\n",
       "    }\n",
       "\n",
       "    .dataframe thead th {\n",
       "        text-align: right;\n",
       "    }\n",
       "</style>\n",
       "<table border=\"1\" class=\"dataframe\">\n",
       "  <thead>\n",
       "    <tr style=\"text-align: right;\">\n",
       "      <th></th>\n",
       "      <th>geoid</th>\n",
       "      <th>n_asian_under_15</th>\n",
       "      <th>n_black_under_15</th>\n",
       "      <th>n_hispanic_under_15</th>\n",
       "      <th>n_native_under_15</th>\n",
       "      <th>n_white_under_15</th>\n",
       "      <th>n_persons_under_18</th>\n",
       "      <th>n_asian_over_60</th>\n",
       "      <th>n_black_over_60</th>\n",
       "      <th>n_hispanic_over_60</th>\n",
       "      <th>...</th>\n",
       "      <th>n_total_housing_units_sample</th>\n",
       "      <th>p_nonhisp_white_persons</th>\n",
       "      <th>p_white_over_60</th>\n",
       "      <th>p_black_over_60</th>\n",
       "      <th>p_hispanic_over_60</th>\n",
       "      <th>p_native_over_60</th>\n",
       "      <th>p_asian_over_60</th>\n",
       "      <th>p_disabled</th>\n",
       "      <th>geometry</th>\n",
       "      <th>index_right</th>\n",
       "    </tr>\n",
       "  </thead>\n",
       "  <tbody>\n",
       "    <tr>\n",
       "      <th>0</th>\n",
       "      <td>06065042210</td>\n",
       "      <td>14.0</td>\n",
       "      <td>4.0</td>\n",
       "      <td>392.0</td>\n",
       "      <td>0.0</td>\n",
       "      <td>49.0</td>\n",
       "      <td>626.0</td>\n",
       "      <td>NaN</td>\n",
       "      <td>NaN</td>\n",
       "      <td>NaN</td>\n",
       "      <td>...</td>\n",
       "      <td>2047.0</td>\n",
       "      <td>26.254459</td>\n",
       "      <td>NaN</td>\n",
       "      <td>NaN</td>\n",
       "      <td>NaN</td>\n",
       "      <td>NaN</td>\n",
       "      <td>NaN</td>\n",
       "      <td>NaN</td>\n",
       "      <td>POLYGON ((6231281.575 2304380.321, 6231334.142...</td>\n",
       "      <td>1</td>\n",
       "    </tr>\n",
       "    <tr>\n",
       "      <th>1</th>\n",
       "      <td>06065044101</td>\n",
       "      <td>0.0</td>\n",
       "      <td>0.0</td>\n",
       "      <td>441.0</td>\n",
       "      <td>0.0</td>\n",
       "      <td>90.0</td>\n",
       "      <td>643.0</td>\n",
       "      <td>NaN</td>\n",
       "      <td>NaN</td>\n",
       "      <td>NaN</td>\n",
       "      <td>...</td>\n",
       "      <td>1223.0</td>\n",
       "      <td>35.014233</td>\n",
       "      <td>NaN</td>\n",
       "      <td>NaN</td>\n",
       "      <td>NaN</td>\n",
       "      <td>NaN</td>\n",
       "      <td>NaN</td>\n",
       "      <td>NaN</td>\n",
       "      <td>POLYGON ((6360916.783 2282317.173, 6368904.531...</td>\n",
       "      <td>1</td>\n",
       "    </tr>\n",
       "    <tr>\n",
       "      <th>2</th>\n",
       "      <td>06065046102</td>\n",
       "      <td>0.0</td>\n",
       "      <td>16.0</td>\n",
       "      <td>409.0</td>\n",
       "      <td>0.0</td>\n",
       "      <td>8.0</td>\n",
       "      <td>500.0</td>\n",
       "      <td>NaN</td>\n",
       "      <td>NaN</td>\n",
       "      <td>NaN</td>\n",
       "      <td>...</td>\n",
       "      <td>887.0</td>\n",
       "      <td>14.184009</td>\n",
       "      <td>NaN</td>\n",
       "      <td>NaN</td>\n",
       "      <td>NaN</td>\n",
       "      <td>NaN</td>\n",
       "      <td>NaN</td>\n",
       "      <td>NaN</td>\n",
       "      <td>POLYGON ((7056901.330 2172059.833, 7059549.717...</td>\n",
       "      <td>1</td>\n",
       "    </tr>\n",
       "    <tr>\n",
       "      <th>3</th>\n",
       "      <td>06065041813</td>\n",
       "      <td>22.0</td>\n",
       "      <td>0.0</td>\n",
       "      <td>1385.0</td>\n",
       "      <td>0.0</td>\n",
       "      <td>218.0</td>\n",
       "      <td>2055.0</td>\n",
       "      <td>NaN</td>\n",
       "      <td>NaN</td>\n",
       "      <td>NaN</td>\n",
       "      <td>...</td>\n",
       "      <td>2084.0</td>\n",
       "      <td>28.686088</td>\n",
       "      <td>NaN</td>\n",
       "      <td>NaN</td>\n",
       "      <td>NaN</td>\n",
       "      <td>NaN</td>\n",
       "      <td>NaN</td>\n",
       "      <td>NaN</td>\n",
       "      <td>POLYGON ((6163401.216 2262775.124, 6163930.656...</td>\n",
       "      <td>1</td>\n",
       "    </tr>\n",
       "    <tr>\n",
       "      <th>4</th>\n",
       "      <td>06065031100</td>\n",
       "      <td>0.0</td>\n",
       "      <td>35.0</td>\n",
       "      <td>686.0</td>\n",
       "      <td>0.0</td>\n",
       "      <td>322.0</td>\n",
       "      <td>1383.0</td>\n",
       "      <td>NaN</td>\n",
       "      <td>NaN</td>\n",
       "      <td>NaN</td>\n",
       "      <td>...</td>\n",
       "      <td>1715.0</td>\n",
       "      <td>49.159311</td>\n",
       "      <td>NaN</td>\n",
       "      <td>NaN</td>\n",
       "      <td>NaN</td>\n",
       "      <td>NaN</td>\n",
       "      <td>NaN</td>\n",
       "      <td>NaN</td>\n",
       "      <td>POLYGON ((6212596.752 2292503.659, 6212608.744...</td>\n",
       "      <td>2</td>\n",
       "    </tr>\n",
       "  </tbody>\n",
       "</table>\n",
       "<p>5 rows × 195 columns</p>\n",
       "</div>"
      ],
      "text/plain": [
       "         geoid  n_asian_under_15  n_black_under_15  n_hispanic_under_15  \\\n",
       "0  06065042210              14.0               4.0                392.0   \n",
       "1  06065044101               0.0               0.0                441.0   \n",
       "2  06065046102               0.0              16.0                409.0   \n",
       "3  06065041813              22.0               0.0               1385.0   \n",
       "4  06065031100               0.0              35.0                686.0   \n",
       "\n",
       "   n_native_under_15  n_white_under_15  n_persons_under_18  n_asian_over_60  \\\n",
       "0                0.0              49.0               626.0              NaN   \n",
       "1                0.0              90.0               643.0              NaN   \n",
       "2                0.0               8.0               500.0              NaN   \n",
       "3                0.0             218.0              2055.0              NaN   \n",
       "4                0.0             322.0              1383.0              NaN   \n",
       "\n",
       "   n_black_over_60  n_hispanic_over_60  ...  n_total_housing_units_sample  \\\n",
       "0              NaN                 NaN  ...                        2047.0   \n",
       "1              NaN                 NaN  ...                        1223.0   \n",
       "2              NaN                 NaN  ...                         887.0   \n",
       "3              NaN                 NaN  ...                        2084.0   \n",
       "4              NaN                 NaN  ...                        1715.0   \n",
       "\n",
       "   p_nonhisp_white_persons  p_white_over_60  p_black_over_60  \\\n",
       "0                26.254459              NaN              NaN   \n",
       "1                35.014233              NaN              NaN   \n",
       "2                14.184009              NaN              NaN   \n",
       "3                28.686088              NaN              NaN   \n",
       "4                49.159311              NaN              NaN   \n",
       "\n",
       "   p_hispanic_over_60  p_native_over_60  p_asian_over_60  p_disabled  \\\n",
       "0                 NaN               NaN              NaN         NaN   \n",
       "1                 NaN               NaN              NaN         NaN   \n",
       "2                 NaN               NaN              NaN         NaN   \n",
       "3                 NaN               NaN              NaN         NaN   \n",
       "4                 NaN               NaN              NaN         NaN   \n",
       "\n",
       "                                            geometry  index_right  \n",
       "0  POLYGON ((6231281.575 2304380.321, 6231334.142...            1  \n",
       "1  POLYGON ((6360916.783 2282317.173, 6368904.531...            1  \n",
       "2  POLYGON ((7056901.330 2172059.833, 7059549.717...            1  \n",
       "3  POLYGON ((6163401.216 2262775.124, 6163930.656...            1  \n",
       "4  POLYGON ((6212596.752 2292503.659, 6212608.744...            2  \n",
       "\n",
       "[5 rows x 195 columns]"
      ]
     },
     "execution_count": 35,
     "metadata": {},
     "output_type": "execute_result"
    }
   ],
   "source": [
    "rc.merge(ct, on='geoid').head()"
   ]
  },
  {
   "cell_type": "markdown",
   "metadata": {},
   "source": [
    "Note that this isn't quite what we want as it only matches the 16 tracts containing clinics. We can change the `how` argument to `outer` to include all tracts:"
   ]
  },
  {
   "cell_type": "code",
   "execution_count": 36,
   "metadata": {
    "execution": {
     "iopub.execute_input": "2022-06-17T22:18:52.899618Z",
     "iopub.status.busy": "2022-06-17T22:18:52.899495Z",
     "iopub.status.idle": "2022-06-17T22:18:52.917976Z",
     "shell.execute_reply": "2022-06-17T22:18:52.917581Z",
     "shell.execute_reply.started": "2022-06-17T22:18:52.899608Z"
    }
   },
   "outputs": [
    {
     "data": {
      "text/html": [
       "<div>\n",
       "<style scoped>\n",
       "    .dataframe tbody tr th:only-of-type {\n",
       "        vertical-align: middle;\n",
       "    }\n",
       "\n",
       "    .dataframe tbody tr th {\n",
       "        vertical-align: top;\n",
       "    }\n",
       "\n",
       "    .dataframe thead th {\n",
       "        text-align: right;\n",
       "    }\n",
       "</style>\n",
       "<table border=\"1\" class=\"dataframe\">\n",
       "  <thead>\n",
       "    <tr style=\"text-align: right;\">\n",
       "      <th></th>\n",
       "      <th>geoid</th>\n",
       "      <th>n_asian_under_15</th>\n",
       "      <th>n_black_under_15</th>\n",
       "      <th>n_hispanic_under_15</th>\n",
       "      <th>n_native_under_15</th>\n",
       "      <th>n_white_under_15</th>\n",
       "      <th>n_persons_under_18</th>\n",
       "      <th>n_asian_over_60</th>\n",
       "      <th>n_black_over_60</th>\n",
       "      <th>n_hispanic_over_60</th>\n",
       "      <th>...</th>\n",
       "      <th>n_total_housing_units_sample</th>\n",
       "      <th>p_nonhisp_white_persons</th>\n",
       "      <th>p_white_over_60</th>\n",
       "      <th>p_black_over_60</th>\n",
       "      <th>p_hispanic_over_60</th>\n",
       "      <th>p_native_over_60</th>\n",
       "      <th>p_asian_over_60</th>\n",
       "      <th>p_disabled</th>\n",
       "      <th>geometry</th>\n",
       "      <th>index_right</th>\n",
       "    </tr>\n",
       "  </thead>\n",
       "  <tbody>\n",
       "    <tr>\n",
       "      <th>0</th>\n",
       "      <td>06065042005</td>\n",
       "      <td>7.0</td>\n",
       "      <td>157.0</td>\n",
       "      <td>259.0</td>\n",
       "      <td>0.0</td>\n",
       "      <td>540.0</td>\n",
       "      <td>1472.0</td>\n",
       "      <td>NaN</td>\n",
       "      <td>NaN</td>\n",
       "      <td>NaN</td>\n",
       "      <td>...</td>\n",
       "      <td>1511.0</td>\n",
       "      <td>52.240247</td>\n",
       "      <td>NaN</td>\n",
       "      <td>NaN</td>\n",
       "      <td>NaN</td>\n",
       "      <td>NaN</td>\n",
       "      <td>NaN</td>\n",
       "      <td>NaN</td>\n",
       "      <td>POLYGON ((6220451.796 2273544.804, 6222975.728...</td>\n",
       "      <td>NaN</td>\n",
       "    </tr>\n",
       "    <tr>\n",
       "      <th>1</th>\n",
       "      <td>06065042210</td>\n",
       "      <td>14.0</td>\n",
       "      <td>4.0</td>\n",
       "      <td>392.0</td>\n",
       "      <td>0.0</td>\n",
       "      <td>49.0</td>\n",
       "      <td>626.0</td>\n",
       "      <td>NaN</td>\n",
       "      <td>NaN</td>\n",
       "      <td>NaN</td>\n",
       "      <td>...</td>\n",
       "      <td>2047.0</td>\n",
       "      <td>26.254459</td>\n",
       "      <td>NaN</td>\n",
       "      <td>NaN</td>\n",
       "      <td>NaN</td>\n",
       "      <td>NaN</td>\n",
       "      <td>NaN</td>\n",
       "      <td>NaN</td>\n",
       "      <td>POLYGON ((6231281.575 2304380.321, 6231334.142...</td>\n",
       "      <td>1.0</td>\n",
       "    </tr>\n",
       "    <tr>\n",
       "      <th>2</th>\n",
       "      <td>06065042403</td>\n",
       "      <td>10.0</td>\n",
       "      <td>62.0</td>\n",
       "      <td>604.0</td>\n",
       "      <td>0.0</td>\n",
       "      <td>142.0</td>\n",
       "      <td>1153.0</td>\n",
       "      <td>NaN</td>\n",
       "      <td>NaN</td>\n",
       "      <td>NaN</td>\n",
       "      <td>...</td>\n",
       "      <td>1194.0</td>\n",
       "      <td>27.105703</td>\n",
       "      <td>NaN</td>\n",
       "      <td>NaN</td>\n",
       "      <td>NaN</td>\n",
       "      <td>NaN</td>\n",
       "      <td>NaN</td>\n",
       "      <td>NaN</td>\n",
       "      <td>POLYGON ((6265534.659 2293274.415, 6268193.791...</td>\n",
       "      <td>NaN</td>\n",
       "    </tr>\n",
       "    <tr>\n",
       "      <th>3</th>\n",
       "      <td>06065042405</td>\n",
       "      <td>17.0</td>\n",
       "      <td>570.0</td>\n",
       "      <td>877.0</td>\n",
       "      <td>0.0</td>\n",
       "      <td>140.0</td>\n",
       "      <td>1949.0</td>\n",
       "      <td>NaN</td>\n",
       "      <td>NaN</td>\n",
       "      <td>NaN</td>\n",
       "      <td>...</td>\n",
       "      <td>1960.0</td>\n",
       "      <td>12.679643</td>\n",
       "      <td>NaN</td>\n",
       "      <td>NaN</td>\n",
       "      <td>NaN</td>\n",
       "      <td>NaN</td>\n",
       "      <td>NaN</td>\n",
       "      <td>NaN</td>\n",
       "      <td>POLYGON ((6254900.866 2289559.203, 6257552.174...</td>\n",
       "      <td>NaN</td>\n",
       "    </tr>\n",
       "    <tr>\n",
       "      <th>4</th>\n",
       "      <td>06065042507</td>\n",
       "      <td>6.0</td>\n",
       "      <td>196.0</td>\n",
       "      <td>1132.0</td>\n",
       "      <td>0.0</td>\n",
       "      <td>47.0</td>\n",
       "      <td>1778.0</td>\n",
       "      <td>NaN</td>\n",
       "      <td>NaN</td>\n",
       "      <td>NaN</td>\n",
       "      <td>...</td>\n",
       "      <td>1209.0</td>\n",
       "      <td>11.965812</td>\n",
       "      <td>NaN</td>\n",
       "      <td>NaN</td>\n",
       "      <td>NaN</td>\n",
       "      <td>NaN</td>\n",
       "      <td>NaN</td>\n",
       "      <td>NaN</td>\n",
       "      <td>POLYGON ((6260074.750 2265634.761, 6260130.720...</td>\n",
       "      <td>NaN</td>\n",
       "    </tr>\n",
       "    <tr>\n",
       "      <th>...</th>\n",
       "      <td>...</td>\n",
       "      <td>...</td>\n",
       "      <td>...</td>\n",
       "      <td>...</td>\n",
       "      <td>...</td>\n",
       "      <td>...</td>\n",
       "      <td>...</td>\n",
       "      <td>...</td>\n",
       "      <td>...</td>\n",
       "      <td>...</td>\n",
       "      <td>...</td>\n",
       "      <td>...</td>\n",
       "      <td>...</td>\n",
       "      <td>...</td>\n",
       "      <td>...</td>\n",
       "      <td>...</td>\n",
       "      <td>...</td>\n",
       "      <td>...</td>\n",
       "      <td>...</td>\n",
       "      <td>...</td>\n",
       "      <td>...</td>\n",
       "    </tr>\n",
       "    <tr>\n",
       "      <th>448</th>\n",
       "      <td>06065040603</td>\n",
       "      <td>0.0</td>\n",
       "      <td>0.0</td>\n",
       "      <td>354.0</td>\n",
       "      <td>0.0</td>\n",
       "      <td>26.0</td>\n",
       "      <td>544.0</td>\n",
       "      <td>NaN</td>\n",
       "      <td>NaN</td>\n",
       "      <td>NaN</td>\n",
       "      <td>...</td>\n",
       "      <td>663.0</td>\n",
       "      <td>23.933856</td>\n",
       "      <td>NaN</td>\n",
       "      <td>NaN</td>\n",
       "      <td>NaN</td>\n",
       "      <td>NaN</td>\n",
       "      <td>NaN</td>\n",
       "      <td>NaN</td>\n",
       "      <td>POLYGON ((6170360.112 2300927.196, 6175629.419...</td>\n",
       "      <td>NaN</td>\n",
       "    </tr>\n",
       "    <tr>\n",
       "      <th>449</th>\n",
       "      <td>06065040701</td>\n",
       "      <td>17.0</td>\n",
       "      <td>0.0</td>\n",
       "      <td>142.0</td>\n",
       "      <td>0.0</td>\n",
       "      <td>332.0</td>\n",
       "      <td>669.0</td>\n",
       "      <td>NaN</td>\n",
       "      <td>NaN</td>\n",
       "      <td>NaN</td>\n",
       "      <td>...</td>\n",
       "      <td>694.0</td>\n",
       "      <td>78.002378</td>\n",
       "      <td>NaN</td>\n",
       "      <td>NaN</td>\n",
       "      <td>NaN</td>\n",
       "      <td>NaN</td>\n",
       "      <td>NaN</td>\n",
       "      <td>NaN</td>\n",
       "      <td>POLYGON ((6152825.484 2282403.533, 6153252.486...</td>\n",
       "      <td>NaN</td>\n",
       "    </tr>\n",
       "    <tr>\n",
       "      <th>450</th>\n",
       "      <td>06065042738</td>\n",
       "      <td>149.0</td>\n",
       "      <td>65.0</td>\n",
       "      <td>549.0</td>\n",
       "      <td>0.0</td>\n",
       "      <td>531.0</td>\n",
       "      <td>1709.0</td>\n",
       "      <td>NaN</td>\n",
       "      <td>NaN</td>\n",
       "      <td>NaN</td>\n",
       "      <td>...</td>\n",
       "      <td>2076.0</td>\n",
       "      <td>56.894592</td>\n",
       "      <td>NaN</td>\n",
       "      <td>NaN</td>\n",
       "      <td>NaN</td>\n",
       "      <td>NaN</td>\n",
       "      <td>NaN</td>\n",
       "      <td>NaN</td>\n",
       "      <td>POLYGON ((6281402.868 2194126.352, 6286714.408...</td>\n",
       "      <td>NaN</td>\n",
       "    </tr>\n",
       "    <tr>\n",
       "      <th>451</th>\n",
       "      <td>06065043309</td>\n",
       "      <td>0.0</td>\n",
       "      <td>59.0</td>\n",
       "      <td>493.0</td>\n",
       "      <td>6.0</td>\n",
       "      <td>204.0</td>\n",
       "      <td>855.0</td>\n",
       "      <td>NaN</td>\n",
       "      <td>NaN</td>\n",
       "      <td>NaN</td>\n",
       "      <td>...</td>\n",
       "      <td>1165.0</td>\n",
       "      <td>44.564120</td>\n",
       "      <td>NaN</td>\n",
       "      <td>NaN</td>\n",
       "      <td>NaN</td>\n",
       "      <td>NaN</td>\n",
       "      <td>NaN</td>\n",
       "      <td>NaN</td>\n",
       "      <td>POLYGON ((6346253.351 2219037.313, 6347578.579...</td>\n",
       "      <td>NaN</td>\n",
       "    </tr>\n",
       "    <tr>\n",
       "      <th>452</th>\n",
       "      <td>06065044804</td>\n",
       "      <td>178.0</td>\n",
       "      <td>0.0</td>\n",
       "      <td>452.0</td>\n",
       "      <td>0.0</td>\n",
       "      <td>80.0</td>\n",
       "      <td>794.0</td>\n",
       "      <td>NaN</td>\n",
       "      <td>NaN</td>\n",
       "      <td>NaN</td>\n",
       "      <td>...</td>\n",
       "      <td>1162.0</td>\n",
       "      <td>27.977189</td>\n",
       "      <td>NaN</td>\n",
       "      <td>NaN</td>\n",
       "      <td>NaN</td>\n",
       "      <td>NaN</td>\n",
       "      <td>NaN</td>\n",
       "      <td>NaN</td>\n",
       "      <td>POLYGON ((6482476.536 2236646.671, 6482483.425...</td>\n",
       "      <td>NaN</td>\n",
       "    </tr>\n",
       "  </tbody>\n",
       "</table>\n",
       "<p>453 rows × 195 columns</p>\n",
       "</div>"
      ],
      "text/plain": [
       "           geoid  n_asian_under_15  n_black_under_15  n_hispanic_under_15  \\\n",
       "0    06065042005               7.0             157.0                259.0   \n",
       "1    06065042210              14.0               4.0                392.0   \n",
       "2    06065042403              10.0              62.0                604.0   \n",
       "3    06065042405              17.0             570.0                877.0   \n",
       "4    06065042507               6.0             196.0               1132.0   \n",
       "..           ...               ...               ...                  ...   \n",
       "448  06065040603               0.0               0.0                354.0   \n",
       "449  06065040701              17.0               0.0                142.0   \n",
       "450  06065042738             149.0              65.0                549.0   \n",
       "451  06065043309               0.0              59.0                493.0   \n",
       "452  06065044804             178.0               0.0                452.0   \n",
       "\n",
       "     n_native_under_15  n_white_under_15  n_persons_under_18  n_asian_over_60  \\\n",
       "0                  0.0             540.0              1472.0              NaN   \n",
       "1                  0.0              49.0               626.0              NaN   \n",
       "2                  0.0             142.0              1153.0              NaN   \n",
       "3                  0.0             140.0              1949.0              NaN   \n",
       "4                  0.0              47.0              1778.0              NaN   \n",
       "..                 ...               ...                 ...              ...   \n",
       "448                0.0              26.0               544.0              NaN   \n",
       "449                0.0             332.0               669.0              NaN   \n",
       "450                0.0             531.0              1709.0              NaN   \n",
       "451                6.0             204.0               855.0              NaN   \n",
       "452                0.0              80.0               794.0              NaN   \n",
       "\n",
       "     n_black_over_60  n_hispanic_over_60  ...  n_total_housing_units_sample  \\\n",
       "0                NaN                 NaN  ...                        1511.0   \n",
       "1                NaN                 NaN  ...                        2047.0   \n",
       "2                NaN                 NaN  ...                        1194.0   \n",
       "3                NaN                 NaN  ...                        1960.0   \n",
       "4                NaN                 NaN  ...                        1209.0   \n",
       "..               ...                 ...  ...                           ...   \n",
       "448              NaN                 NaN  ...                         663.0   \n",
       "449              NaN                 NaN  ...                         694.0   \n",
       "450              NaN                 NaN  ...                        2076.0   \n",
       "451              NaN                 NaN  ...                        1165.0   \n",
       "452              NaN                 NaN  ...                        1162.0   \n",
       "\n",
       "     p_nonhisp_white_persons  p_white_over_60  p_black_over_60  \\\n",
       "0                  52.240247              NaN              NaN   \n",
       "1                  26.254459              NaN              NaN   \n",
       "2                  27.105703              NaN              NaN   \n",
       "3                  12.679643              NaN              NaN   \n",
       "4                  11.965812              NaN              NaN   \n",
       "..                       ...              ...              ...   \n",
       "448                23.933856              NaN              NaN   \n",
       "449                78.002378              NaN              NaN   \n",
       "450                56.894592              NaN              NaN   \n",
       "451                44.564120              NaN              NaN   \n",
       "452                27.977189              NaN              NaN   \n",
       "\n",
       "     p_hispanic_over_60  p_native_over_60  p_asian_over_60  p_disabled  \\\n",
       "0                   NaN               NaN              NaN         NaN   \n",
       "1                   NaN               NaN              NaN         NaN   \n",
       "2                   NaN               NaN              NaN         NaN   \n",
       "3                   NaN               NaN              NaN         NaN   \n",
       "4                   NaN               NaN              NaN         NaN   \n",
       "..                  ...               ...              ...         ...   \n",
       "448                 NaN               NaN              NaN         NaN   \n",
       "449                 NaN               NaN              NaN         NaN   \n",
       "450                 NaN               NaN              NaN         NaN   \n",
       "451                 NaN               NaN              NaN         NaN   \n",
       "452                 NaN               NaN              NaN         NaN   \n",
       "\n",
       "                                              geometry  index_right  \n",
       "0    POLYGON ((6220451.796 2273544.804, 6222975.728...          NaN  \n",
       "1    POLYGON ((6231281.575 2304380.321, 6231334.142...          1.0  \n",
       "2    POLYGON ((6265534.659 2293274.415, 6268193.791...          NaN  \n",
       "3    POLYGON ((6254900.866 2289559.203, 6257552.174...          NaN  \n",
       "4    POLYGON ((6260074.750 2265634.761, 6260130.720...          NaN  \n",
       "..                                                 ...          ...  \n",
       "448  POLYGON ((6170360.112 2300927.196, 6175629.419...          NaN  \n",
       "449  POLYGON ((6152825.484 2282403.533, 6153252.486...          NaN  \n",
       "450  POLYGON ((6281402.868 2194126.352, 6286714.408...          NaN  \n",
       "451  POLYGON ((6346253.351 2219037.313, 6347578.579...          NaN  \n",
       "452  POLYGON ((6482476.536 2236646.671, 6482483.425...          NaN  \n",
       "\n",
       "[453 rows x 195 columns]"
      ]
     },
     "execution_count": 36,
     "metadata": {},
     "output_type": "execute_result"
    }
   ],
   "source": [
    "rc.merge(ct, on='geoid', how='outer') #outer = union, inner = interesection, left, right"
   ]
  },
  {
   "cell_type": "markdown",
   "metadata": {},
   "source": [
    "Ok now we have all the tracts covered. But if you scroll to the right we will see `NaN` values for the tracts that do not contain a clinic. What remains is to replace the "
   ]
  },
  {
   "cell_type": "code",
   "execution_count": 37,
   "metadata": {
    "execution": {
     "iopub.execute_input": "2022-06-17T22:18:52.918522Z",
     "iopub.status.busy": "2022-06-17T22:18:52.918424Z",
     "iopub.status.idle": "2022-06-17T22:18:52.938602Z",
     "shell.execute_reply": "2022-06-17T22:18:52.938223Z",
     "shell.execute_reply.started": "2022-06-17T22:18:52.918514Z"
    }
   },
   "outputs": [
    {
     "data": {
      "text/html": [
       "<div>\n",
       "<style scoped>\n",
       "    .dataframe tbody tr th:only-of-type {\n",
       "        vertical-align: middle;\n",
       "    }\n",
       "\n",
       "    .dataframe tbody tr th {\n",
       "        vertical-align: top;\n",
       "    }\n",
       "\n",
       "    .dataframe thead th {\n",
       "        text-align: right;\n",
       "    }\n",
       "</style>\n",
       "<table border=\"1\" class=\"dataframe\">\n",
       "  <thead>\n",
       "    <tr style=\"text-align: right;\">\n",
       "      <th></th>\n",
       "      <th>geoid</th>\n",
       "      <th>n_asian_under_15</th>\n",
       "      <th>n_black_under_15</th>\n",
       "      <th>n_hispanic_under_15</th>\n",
       "      <th>n_native_under_15</th>\n",
       "      <th>n_white_under_15</th>\n",
       "      <th>n_persons_under_18</th>\n",
       "      <th>n_asian_over_60</th>\n",
       "      <th>n_black_over_60</th>\n",
       "      <th>n_hispanic_over_60</th>\n",
       "      <th>...</th>\n",
       "      <th>n_total_housing_units_sample</th>\n",
       "      <th>p_nonhisp_white_persons</th>\n",
       "      <th>p_white_over_60</th>\n",
       "      <th>p_black_over_60</th>\n",
       "      <th>p_hispanic_over_60</th>\n",
       "      <th>p_native_over_60</th>\n",
       "      <th>p_asian_over_60</th>\n",
       "      <th>p_disabled</th>\n",
       "      <th>geometry</th>\n",
       "      <th>index_right</th>\n",
       "    </tr>\n",
       "  </thead>\n",
       "  <tbody>\n",
       "    <tr>\n",
       "      <th>0</th>\n",
       "      <td>06065042005</td>\n",
       "      <td>7.0</td>\n",
       "      <td>157.0</td>\n",
       "      <td>259.0</td>\n",
       "      <td>0.0</td>\n",
       "      <td>540.0</td>\n",
       "      <td>1472.0</td>\n",
       "      <td>0.0</td>\n",
       "      <td>0.0</td>\n",
       "      <td>0.0</td>\n",
       "      <td>...</td>\n",
       "      <td>1511.0</td>\n",
       "      <td>52.240247</td>\n",
       "      <td>0.0</td>\n",
       "      <td>0.0</td>\n",
       "      <td>0.0</td>\n",
       "      <td>0.0</td>\n",
       "      <td>0.0</td>\n",
       "      <td>0.0</td>\n",
       "      <td>POLYGON ((6220451.796 2273544.804, 6222975.728...</td>\n",
       "      <td>0.0</td>\n",
       "    </tr>\n",
       "    <tr>\n",
       "      <th>1</th>\n",
       "      <td>06065042210</td>\n",
       "      <td>14.0</td>\n",
       "      <td>4.0</td>\n",
       "      <td>392.0</td>\n",
       "      <td>0.0</td>\n",
       "      <td>49.0</td>\n",
       "      <td>626.0</td>\n",
       "      <td>0.0</td>\n",
       "      <td>0.0</td>\n",
       "      <td>0.0</td>\n",
       "      <td>...</td>\n",
       "      <td>2047.0</td>\n",
       "      <td>26.254459</td>\n",
       "      <td>0.0</td>\n",
       "      <td>0.0</td>\n",
       "      <td>0.0</td>\n",
       "      <td>0.0</td>\n",
       "      <td>0.0</td>\n",
       "      <td>0.0</td>\n",
       "      <td>POLYGON ((6231281.575 2304380.321, 6231334.142...</td>\n",
       "      <td>1.0</td>\n",
       "    </tr>\n",
       "    <tr>\n",
       "      <th>2</th>\n",
       "      <td>06065042403</td>\n",
       "      <td>10.0</td>\n",
       "      <td>62.0</td>\n",
       "      <td>604.0</td>\n",
       "      <td>0.0</td>\n",
       "      <td>142.0</td>\n",
       "      <td>1153.0</td>\n",
       "      <td>0.0</td>\n",
       "      <td>0.0</td>\n",
       "      <td>0.0</td>\n",
       "      <td>...</td>\n",
       "      <td>1194.0</td>\n",
       "      <td>27.105703</td>\n",
       "      <td>0.0</td>\n",
       "      <td>0.0</td>\n",
       "      <td>0.0</td>\n",
       "      <td>0.0</td>\n",
       "      <td>0.0</td>\n",
       "      <td>0.0</td>\n",
       "      <td>POLYGON ((6265534.659 2293274.415, 6268193.791...</td>\n",
       "      <td>0.0</td>\n",
       "    </tr>\n",
       "    <tr>\n",
       "      <th>3</th>\n",
       "      <td>06065042405</td>\n",
       "      <td>17.0</td>\n",
       "      <td>570.0</td>\n",
       "      <td>877.0</td>\n",
       "      <td>0.0</td>\n",
       "      <td>140.0</td>\n",
       "      <td>1949.0</td>\n",
       "      <td>0.0</td>\n",
       "      <td>0.0</td>\n",
       "      <td>0.0</td>\n",
       "      <td>...</td>\n",
       "      <td>1960.0</td>\n",
       "      <td>12.679643</td>\n",
       "      <td>0.0</td>\n",
       "      <td>0.0</td>\n",
       "      <td>0.0</td>\n",
       "      <td>0.0</td>\n",
       "      <td>0.0</td>\n",
       "      <td>0.0</td>\n",
       "      <td>POLYGON ((6254900.866 2289559.203, 6257552.174...</td>\n",
       "      <td>0.0</td>\n",
       "    </tr>\n",
       "    <tr>\n",
       "      <th>4</th>\n",
       "      <td>06065042507</td>\n",
       "      <td>6.0</td>\n",
       "      <td>196.0</td>\n",
       "      <td>1132.0</td>\n",
       "      <td>0.0</td>\n",
       "      <td>47.0</td>\n",
       "      <td>1778.0</td>\n",
       "      <td>0.0</td>\n",
       "      <td>0.0</td>\n",
       "      <td>0.0</td>\n",
       "      <td>...</td>\n",
       "      <td>1209.0</td>\n",
       "      <td>11.965812</td>\n",
       "      <td>0.0</td>\n",
       "      <td>0.0</td>\n",
       "      <td>0.0</td>\n",
       "      <td>0.0</td>\n",
       "      <td>0.0</td>\n",
       "      <td>0.0</td>\n",
       "      <td>POLYGON ((6260074.750 2265634.761, 6260130.720...</td>\n",
       "      <td>0.0</td>\n",
       "    </tr>\n",
       "  </tbody>\n",
       "</table>\n",
       "<p>5 rows × 195 columns</p>\n",
       "</div>"
      ],
      "text/plain": [
       "         geoid  n_asian_under_15  n_black_under_15  n_hispanic_under_15  \\\n",
       "0  06065042005               7.0             157.0                259.0   \n",
       "1  06065042210              14.0               4.0                392.0   \n",
       "2  06065042403              10.0              62.0                604.0   \n",
       "3  06065042405              17.0             570.0                877.0   \n",
       "4  06065042507               6.0             196.0               1132.0   \n",
       "\n",
       "   n_native_under_15  n_white_under_15  n_persons_under_18  n_asian_over_60  \\\n",
       "0                0.0             540.0              1472.0              0.0   \n",
       "1                0.0              49.0               626.0              0.0   \n",
       "2                0.0             142.0              1153.0              0.0   \n",
       "3                0.0             140.0              1949.0              0.0   \n",
       "4                0.0              47.0              1778.0              0.0   \n",
       "\n",
       "   n_black_over_60  n_hispanic_over_60  ...  n_total_housing_units_sample  \\\n",
       "0              0.0                 0.0  ...                        1511.0   \n",
       "1              0.0                 0.0  ...                        2047.0   \n",
       "2              0.0                 0.0  ...                        1194.0   \n",
       "3              0.0                 0.0  ...                        1960.0   \n",
       "4              0.0                 0.0  ...                        1209.0   \n",
       "\n",
       "   p_nonhisp_white_persons  p_white_over_60  p_black_over_60  \\\n",
       "0                52.240247              0.0              0.0   \n",
       "1                26.254459              0.0              0.0   \n",
       "2                27.105703              0.0              0.0   \n",
       "3                12.679643              0.0              0.0   \n",
       "4                11.965812              0.0              0.0   \n",
       "\n",
       "   p_hispanic_over_60  p_native_over_60  p_asian_over_60  p_disabled  \\\n",
       "0                 0.0               0.0              0.0         0.0   \n",
       "1                 0.0               0.0              0.0         0.0   \n",
       "2                 0.0               0.0              0.0         0.0   \n",
       "3                 0.0               0.0              0.0         0.0   \n",
       "4                 0.0               0.0              0.0         0.0   \n",
       "\n",
       "                                            geometry  index_right  \n",
       "0  POLYGON ((6220451.796 2273544.804, 6222975.728...          0.0  \n",
       "1  POLYGON ((6231281.575 2304380.321, 6231334.142...          1.0  \n",
       "2  POLYGON ((6265534.659 2293274.415, 6268193.791...          0.0  \n",
       "3  POLYGON ((6254900.866 2289559.203, 6257552.174...          0.0  \n",
       "4  POLYGON ((6260074.750 2265634.761, 6260130.720...          0.0  \n",
       "\n",
       "[5 rows x 195 columns]"
      ]
     },
     "execution_count": 37,
     "metadata": {},
     "output_type": "execute_result"
    }
   ],
   "source": [
    "rc.merge(ct, on='geoid', how='outer').fillna(0).head()"
   ]
  },
  {
   "cell_type": "markdown",
   "metadata": {},
   "source": [
    "Great. Now we save our work and rename the column holding the clinic count:"
   ]
  },
  {
   "cell_type": "code",
   "execution_count": 38,
   "metadata": {
    "execution": {
     "iopub.execute_input": "2022-06-17T22:18:52.939204Z",
     "iopub.status.busy": "2022-06-17T22:18:52.939114Z",
     "iopub.status.idle": "2022-06-17T22:18:52.947171Z",
     "shell.execute_reply": "2022-06-17T22:18:52.946658Z",
     "shell.execute_reply.started": "2022-06-17T22:18:52.939195Z"
    }
   },
   "outputs": [],
   "source": [
    "rc = rc.merge(ct, on='geoid', how='outer').fillna(0)"
   ]
  },
  {
   "cell_type": "code",
   "execution_count": 39,
   "metadata": {
    "execution": {
     "iopub.execute_input": "2022-06-17T22:18:52.947798Z",
     "iopub.status.busy": "2022-06-17T22:18:52.947681Z",
     "iopub.status.idle": "2022-06-17T22:18:52.951804Z",
     "shell.execute_reply": "2022-06-17T22:18:52.951371Z",
     "shell.execute_reply.started": "2022-06-17T22:18:52.947788Z"
    }
   },
   "outputs": [
    {
     "data": {
      "text/plain": [
       "28.0"
      ]
     },
     "execution_count": 39,
     "metadata": {},
     "output_type": "execute_result"
    }
   ],
   "source": [
    "rc['index_right'].sum()"
   ]
  },
  {
   "cell_type": "code",
   "execution_count": 40,
   "metadata": {
    "execution": {
     "iopub.execute_input": "2022-06-17T22:18:52.952396Z",
     "iopub.status.busy": "2022-06-17T22:18:52.952253Z",
     "iopub.status.idle": "2022-06-17T22:18:52.956420Z",
     "shell.execute_reply": "2022-06-17T22:18:52.956070Z",
     "shell.execute_reply.started": "2022-06-17T22:18:52.952375Z"
    }
   },
   "outputs": [],
   "source": [
    "rc.rename(columns={'index_right': 'clinics_count'}, inplace=True)"
   ]
  },
  {
   "cell_type": "code",
   "execution_count": 41,
   "metadata": {
    "execution": {
     "iopub.execute_input": "2022-06-17T22:18:52.957156Z",
     "iopub.status.busy": "2022-06-17T22:18:52.957065Z",
     "iopub.status.idle": "2022-06-17T22:18:52.960860Z",
     "shell.execute_reply": "2022-06-17T22:18:52.960473Z",
     "shell.execute_reply.started": "2022-06-17T22:18:52.957147Z"
    }
   },
   "outputs": [
    {
     "data": {
      "text/plain": [
       "28.0"
      ]
     },
     "execution_count": 41,
     "metadata": {},
     "output_type": "execute_result"
    }
   ],
   "source": [
    "rc.clinics_count.sum()"
   ]
  },
  {
   "cell_type": "code",
   "execution_count": 42,
   "metadata": {
    "execution": {
     "iopub.execute_input": "2022-06-17T22:18:52.961488Z",
     "iopub.status.busy": "2022-06-17T22:18:52.961394Z",
     "iopub.status.idle": "2022-06-17T22:18:52.966501Z",
     "shell.execute_reply": "2022-06-17T22:18:52.965353Z",
     "shell.execute_reply.started": "2022-06-17T22:18:52.961480Z"
    }
   },
   "outputs": [
    {
     "data": {
      "text/plain": [
       "<Axes: >"
      ]
     },
     "execution_count": 42,
     "metadata": {},
     "output_type": "execute_result"
    },
    {
     "data": {
      "image/png": "[encoded data removed]",
      "text/plain": [
       "<Figure size 640x480 with 1 Axes>"
      ]
     },
     "metadata": {},
     "output_type": "display_data"
    }
   ],
   "source": [
    "type(rc)\n",
    "rc.plot()"
   ]
  },
  {
   "cell_type": "markdown",
   "metadata": {},
   "source": [
    "<div class=\"alert alert-success\" style=\"font-size:120%\">\n",
    "<b>Exercise</b>: <br>\n",
    "Create a shapefile for each of the counties in the Southern California dataframe, and write to <code>data/FIPSCODE.shp</code>. Where <code>FIPSCODE</code> is the 5-digit\n",
    "<a href=\"https://www.nrcs.usda.gov/wps/portal/nrcs/detail/ca/home/?cid=nrcs143_013697\">FIPS Code for the county</a>.\n",
    "</div>"
   ]
  },
  {
   "cell_type": "code",
   "execution_count": 43,
   "metadata": {
    "execution": {
     "iopub.execute_input": "2022-06-17T22:18:52.973983Z",
     "iopub.status.busy": "2022-06-17T22:18:52.973805Z",
     "iopub.status.idle": "2022-06-17T22:18:52.976397Z",
     "shell.execute_reply": "2022-06-17T22:18:52.976047Z",
     "shell.execute_reply.started": "2022-06-17T22:18:52.973969Z"
    }
   },
   "outputs": [
    {
     "name": "stderr",
     "output_type": "stream",
     "text": [
      "C:\\Users\\moeth\\AppData\\Local\\Temp\\ipykernel_19344\\2993001711.py:9: UserWarning: Column names longer than 10 characters will be truncated when saved to ESRI Shapefile.\n",
      "  gdf.to_file(f'data/{county}.shp')\n"
     ]
    },
    {
     "name": "stderr",
     "output_type": "stream",
     "text": [
      "C:\\Users\\moeth\\AppData\\Local\\Temp\\ipykernel_19344\\2993001711.py:9: UserWarning: Column names longer than 10 characters will be truncated when saved to ESRI Shapefile.\n",
      "  gdf.to_file(f'data/{county}.shp')\n",
      "C:\\Users\\moeth\\AppData\\Local\\Temp\\ipykernel_19344\\2993001711.py:9: UserWarning: Column names longer than 10 characters will be truncated when saved to ESRI Shapefile.\n",
      "  gdf.to_file(f'data/{county}.shp')\n",
      "C:\\Users\\moeth\\AppData\\Local\\Temp\\ipykernel_19344\\2993001711.py:9: UserWarning: Column names longer than 10 characters will be truncated when saved to ESRI Shapefile.\n",
      "  gdf.to_file(f'data/{county}.shp')\n",
      "C:\\Users\\moeth\\AppData\\Local\\Temp\\ipykernel_19344\\2993001711.py:9: UserWarning: Column names longer than 10 characters will be truncated when saved to ESRI Shapefile.\n",
      "  gdf.to_file(f'data/{county}.shp')\n",
      "C:\\Users\\moeth\\AppData\\Local\\Temp\\ipykernel_19344\\2993001711.py:9: UserWarning: Column names longer than 10 characters will be truncated when saved to ESRI Shapefile.\n",
      "  gdf.to_file(f'data/{county}.shp')\n",
      "C:\\Users\\moeth\\AppData\\Local\\Temp\\ipykernel_19344\\2993001711.py:9: UserWarning: Column names longer than 10 characters will be truncated when saved to ESRI Shapefile.\n",
      "  gdf.to_file(f'data/{county}.shp')\n"
     ]
    }
   ],
   "source": [
    "# %load solutions/00.py\n",
    "\"\"\"\n",
    "Solution for nb 00\n",
    "\"\"\"\n",
    "scag['county'] = scag.geoid.str[:5]     # add a column with the derived fips codes for a tract's county\n",
    "counties = scag.county.unique()         # get the unique county codes\n",
    "for county in counties:                 # loop over the counties and create the shapefiles\n",
    "    gdf = scag[scag.county==county]\n",
    "    gdf.to_file(f'data/{county}.shp')"
   ]
  },
  {
   "cell_type": "markdown",
   "metadata": {},
   "source": [
    "---\n",
    "\n",
    "<a rel=\"license\" href=\"http://creativecommons.org/licenses/by-nc-\n",
    "sa/4.0/\"><img alt=\"Creative Commons License\" style=\"border-width:0\"\n",
    "src=\"https://i.creativecommons.org/l/by-nc-sa/4.0/88x31.png\" /></a><br /><span\n",
    "xmlns:dct=\"http://purl.org/dc/terms/\" property=\"dct:title\">Geoprocessing</span> by <a xmlns:cc=\"http://creativecommons.org/ns#\"\n",
    "href=\"http://sergerey.org\" property=\"cc:attributionName\"\n",
    "rel=\"cc:attributionURL\">Serge Rey</a> is licensed under a <a\n",
    "rel=\"license\" href=\"http://creativecommons.org/licenses/by-nc-sa/4.0/\">Creative\n",
    "Commons Attribution-NonCommercial-ShareAlike 4.0 International License</a>."
   ]
  }
 ],
 "metadata": {
  "kernelspec": {
   "display_name": "GeospatialPython",
   "language": "python",
   "name": "python3"
  },
  "language_info": {
   "codemirror_mode": {
    "name": "ipython",
    "version": 3
   },
   "file_extension": ".py",
   "mimetype": "text/x-python",
   "name": "python",
   "nbconvert_exporter": "python",
   "pygments_lexer": "ipython3",
   "version": "3.10.12"
  },
  "widgets": {
   "application/vnd.jupyter.widget-state+json": {
    "state": {},
    "version_major": 2,
    "version_minor": 0
   }
  }
 },
 "nbformat": 4,
 "nbformat_minor": 4
}
